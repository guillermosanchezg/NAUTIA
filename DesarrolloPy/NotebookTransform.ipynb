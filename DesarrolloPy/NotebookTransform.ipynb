{
 "cells": [
  {
   "cell_type": "code",
   "execution_count": 1,
   "metadata": {},
   "outputs": [
    {
     "name": "stderr",
     "output_type": "stream",
     "text": [
      "[nltk_data] Downloading collection 'popular'\n",
      "[nltk_data]    | \n",
      "[nltk_data]    | Downloading package cmudict to\n",
      "[nltk_data]    |     C:\\Users\\guill\\AppData\\Roaming\\nltk_data...\n",
      "[nltk_data]    |   Package cmudict is already up-to-date!\n",
      "[nltk_data]    | Downloading package gazetteers to\n",
      "[nltk_data]    |     C:\\Users\\guill\\AppData\\Roaming\\nltk_data...\n",
      "[nltk_data]    |   Package gazetteers is already up-to-date!\n",
      "[nltk_data]    | Downloading package genesis to\n",
      "[nltk_data]    |     C:\\Users\\guill\\AppData\\Roaming\\nltk_data...\n",
      "[nltk_data]    |   Package genesis is already up-to-date!\n",
      "[nltk_data]    | Downloading package gutenberg to\n",
      "[nltk_data]    |     C:\\Users\\guill\\AppData\\Roaming\\nltk_data...\n",
      "[nltk_data]    |   Package gutenberg is already up-to-date!\n",
      "[nltk_data]    | Downloading package inaugural to\n",
      "[nltk_data]    |     C:\\Users\\guill\\AppData\\Roaming\\nltk_data...\n",
      "[nltk_data]    |   Package inaugural is already up-to-date!\n",
      "[nltk_data]    | Downloading package movie_reviews to\n",
      "[nltk_data]    |     C:\\Users\\guill\\AppData\\Roaming\\nltk_data...\n",
      "[nltk_data]    |   Package movie_reviews is already up-to-date!\n",
      "[nltk_data]    | Downloading package names to\n",
      "[nltk_data]    |     C:\\Users\\guill\\AppData\\Roaming\\nltk_data...\n",
      "[nltk_data]    |   Package names is already up-to-date!\n",
      "[nltk_data]    | Downloading package shakespeare to\n",
      "[nltk_data]    |     C:\\Users\\guill\\AppData\\Roaming\\nltk_data...\n",
      "[nltk_data]    |   Package shakespeare is already up-to-date!\n",
      "[nltk_data]    | Downloading package stopwords to\n",
      "[nltk_data]    |     C:\\Users\\guill\\AppData\\Roaming\\nltk_data...\n",
      "[nltk_data]    |   Package stopwords is already up-to-date!\n",
      "[nltk_data]    | Downloading package treebank to\n",
      "[nltk_data]    |     C:\\Users\\guill\\AppData\\Roaming\\nltk_data...\n",
      "[nltk_data]    |   Package treebank is already up-to-date!\n",
      "[nltk_data]    | Downloading package twitter_samples to\n",
      "[nltk_data]    |     C:\\Users\\guill\\AppData\\Roaming\\nltk_data...\n",
      "[nltk_data]    |   Package twitter_samples is already up-to-date!\n",
      "[nltk_data]    | Downloading package omw to\n",
      "[nltk_data]    |     C:\\Users\\guill\\AppData\\Roaming\\nltk_data...\n",
      "[nltk_data]    |   Package omw is already up-to-date!\n",
      "[nltk_data]    | Downloading package wordnet to\n",
      "[nltk_data]    |     C:\\Users\\guill\\AppData\\Roaming\\nltk_data...\n",
      "[nltk_data]    |   Package wordnet is already up-to-date!\n",
      "[nltk_data]    | Downloading package wordnet_ic to\n",
      "[nltk_data]    |     C:\\Users\\guill\\AppData\\Roaming\\nltk_data...\n",
      "[nltk_data]    |   Package wordnet_ic is already up-to-date!\n",
      "[nltk_data]    | Downloading package words to\n",
      "[nltk_data]    |     C:\\Users\\guill\\AppData\\Roaming\\nltk_data...\n",
      "[nltk_data]    |   Package words is already up-to-date!\n",
      "[nltk_data]    | Downloading package maxent_ne_chunker to\n",
      "[nltk_data]    |     C:\\Users\\guill\\AppData\\Roaming\\nltk_data...\n",
      "[nltk_data]    |   Package maxent_ne_chunker is already up-to-date!\n",
      "[nltk_data]    | Downloading package punkt to\n",
      "[nltk_data]    |     C:\\Users\\guill\\AppData\\Roaming\\nltk_data...\n",
      "[nltk_data]    |   Package punkt is already up-to-date!\n",
      "[nltk_data]    | Downloading package snowball_data to\n",
      "[nltk_data]    |     C:\\Users\\guill\\AppData\\Roaming\\nltk_data...\n",
      "[nltk_data]    |   Package snowball_data is already up-to-date!\n",
      "[nltk_data]    | Downloading package averaged_perceptron_tagger to\n",
      "[nltk_data]    |     C:\\Users\\guill\\AppData\\Roaming\\nltk_data...\n",
      "[nltk_data]    |   Package averaged_perceptron_tagger is already up-\n",
      "[nltk_data]    |       to-date!\n",
      "[nltk_data]    | \n",
      "[nltk_data]  Done downloading collection popular\n"
     ]
    }
   ],
   "source": [
    "import numpy as np\n",
    "import pandas as pd\n",
    "import os\n",
    "import sklearn\n",
    "from sklearn.feature_extraction.text import CountVectorizer\n",
    "count_vectorizer = CountVectorizer()\n",
    "\n",
    "import nltk\n",
    "nltk.download(\"popular\") # required to download the stopwords lists\n",
    "\n",
    "from nltk.corpus import stopwords\n",
    "\n",
    "spanish_stopwords = stopwords.words('spanish')\n",
    "english_stopwords = stopwords.words('english')\n",
    "count_vectorizer = CountVectorizer(stop_words = spanish_stopwords+english_stopwords)"
   ]
  },
  {
   "cell_type": "code",
   "execution_count": 32,
   "metadata": {},
   "outputs": [],
   "source": [
    "mainpath = \"C:/Users/guill/Documents/Universidad/PlataformaRefugiados/NAUTIA/DesarrolloPy/DataSetOriginales\"\n",
    "\n",
    "def dfFix(df,col1 = False,col2 = False):\n",
    "    result = df.copy()\n",
    "    if(col1):\n",
    "        x = result.columns.get_loc(col1)\n",
    "        result.drop(result.columns[0:x],axis = 1, inplace = True)\n",
    "    if(col2):\n",
    "        y = result.columns.get_loc(col2)\n",
    "        result.drop(result.columns[y:],axis = 1, inplace = True)\n",
    "    return result\n",
    "\n",
    "def concatDF(df1,df2):\n",
    "    return  pd.concat([df1,df2],axis = 1, ignore_index = True, sort = True)\n",
    "\n",
    "def dropRow(df,i):\n",
    "    return df.drop(index = i)\n",
    "\n",
    "def mkCSV(df,fileName):\n",
    "    df = df.dropna(how = 'all')\n",
    "    df *= 1\n",
    "    df = df.fillna(\"//N\")\n",
    "    df.to_csv('DataSetFinales/'+fileName,header = False, index=False) #Header e index a false para no mostrarlo en el csv\n",
    "    \n",
    "def getPath(mainpath,filename):\n",
    "    return os.path.join(mainpath, filename)\n",
    "\n",
    "def fixBibliography(df):\n",
    "    df = dfFix(df,\"GENERAL INFORMATION - COUNTRY LEVEL\")\n",
    "    df.columns = ['GeneralInfo', 'CommunityCountry', 'RefugeeCountry']\n",
    "    df.set_index('GeneralInfo', inplace = True)\n",
    "    df = df.transpose()\n",
    "    df.reset_index(inplace = True)\n",
    "    return df\n",
    "\n",
    "def getSubColumnNames(df,x):\n",
    "    columns = df.columns\n",
    "    array = []\n",
    "    for column in columns:\n",
    "        column = column[x:]\n",
    "        array.append(column)\n",
    "    return pd.DataFrame(array) \n",
    "\n",
    "def addInstitutionAndType(df,array1,array2,instType,index):\n",
    "    refugees = dropRow(df,index)\n",
    "    refugees = refugees.dropna(axis = 1)\n",
    "    refugees = np.array(refugees)\n",
    "    for row in refugees:\n",
    "        for elem in row:\n",
    "            array1 = np.append(array1,elem)\n",
    "            array2 = np.append(array2,instType)\n",
    "    return array1,array2\n",
    "\n",
    "def politicalActor(df1,df2,df3,df4,df5,index):\n",
    "    institution = []\n",
    "    instType = []\n",
    "\n",
    "    institution, instType  = addInstitutionAndType(df1,institution,instType,'Public Institution',index)\n",
    "    institution, instType  = addInstitutionAndType(df2,institution,instType,'Private Institution',index)\n",
    "    institution, instType  = addInstitutionAndType(df3,institution,instType,'NGO',index)\n",
    "    institution, instType  = addInstitutionAndType(df4,institution,instType,'International Agency',index)\n",
    "    institution, instType  = addInstitutionAndType(df5,institution,instType,'Local',index)\n",
    "\n",
    "    institution = pd.DataFrame(institution)\n",
    "    institution = institution.reset_index(drop = True)\n",
    "    instType = pd.DataFrame(instType)\n",
    "    instType = instType.reset_index(drop = True)\n",
    "    \n",
    "    return concatDF(institution,instType)\n",
    "\n",
    "def separateValues(df):\n",
    "    array = np.array(df)\n",
    "    corpus = []\n",
    "    for row in array:\n",
    "        for elem in row:\n",
    "            corpus = np.append(corpus,[elem])\n",
    "    X = count_vectorizer.fit_transform(corpus)\n",
    "    array = count_vectorizer.get_feature_names()\n",
    "    return pd.DataFrame(array)  \n",
    "\n",
    "def getSeason(df):\n",
    "    year = [\"january\",\"february\",\"march\",\"april\",\"may\",\"june\",\"july\",\"august\",\"september\",\"october\",\"november\",\"december\"]\n",
    "    #corpus = [\"january february March april, may\"]\n",
    "    X = count_vectorizer.fit_transform(corpus)\n",
    "    cultivationSeason = count_vectorizer.get_feature_names()\n",
    "    #print(cultivationSeason)\n",
    "    array = np.array([], dtype=bool)\n",
    "    for elem in year:\n",
    "        flag = False\n",
    "        for month in cultivationSeason:\n",
    "            if(elem == month):\n",
    "                flag = True\n",
    "        if(flag):\n",
    "            array = np.append(array, [True])           \n",
    "        else:\n",
    "            array = np.append(array, [False])\n",
    "    return pd.DataFrame(array)\n",
    "\n",
    "def get_claveValor(df1,df2):\n",
    "    array1 = np.array(df2)\n",
    "    array2 = np.array(df1)\n",
    "    result1 = []\n",
    "    result2 = []\n",
    "    i = 0\n",
    "    for row in array1:\n",
    "        var = array2[i]\n",
    "        for elem in row:\n",
    "            result1 = np.append(result1,elem)\n",
    "            result2 = np.append(result2,var)\n",
    "        i+=1\n",
    "    result2 = pd.DataFrame(result2)\n",
    "    result2 = result2.reset_index(drop = True)\n",
    "    result1 = pd.DataFrame(result1)\n",
    "    result1 = result1.reset_index(drop = True)\n",
    "    return concatDF(result2,result1)\n",
    "\n",
    "def get_FSClaveValor(df1,df2):\n",
    "    df2 = df2.transpose()\n",
    "    array = np.array(df2)\n",
    "    array2 =[]\n",
    "    i = 0\n",
    "    for row in array:\n",
    "        for elem in row:\n",
    "            array2 = np.append(array2,elem)\n",
    "        i+=1  \n",
    "    df2 = pd.DataFrame(array2)\n",
    "    \n",
    "    return concatDF(df1,df2)\n",
    "\n",
    "def get_valueBySector(df1,df2):\n",
    "    df2 = df2.reset_index()\n",
    "    array1 = np.array(df1)\n",
    "    i = 0\n",
    "    for row in array1:\n",
    "        for elem in row:\n",
    "            if(elem == False):\n",
    "                df2 = dropRow(df2,i)\n",
    "        i += 1\n",
    "    df2 = df2.set_index('index')\n",
    "    return df2"
   ]
  },
  {
   "cell_type": "code",
   "execution_count": 3,
   "metadata": {},
   "outputs": [],
   "source": [
    "pd.options.display.max_columns = None"
   ]
  },
  {
   "cell_type": "code",
   "execution_count": 4,
   "metadata": {},
   "outputs": [],
   "source": [
    "Bibliography = pd.read_excel(getPath(mainpath,\"Bibliography_120220.xlsx\"))\n",
    "Bibliography = fixBibliography(Bibliography)\n",
    "Entities = pd.read_csv(getPath(mainpath,\"NAUTIA_1_0_Entities_Interview_results.csv\"))\n",
    "LocalLeaders = pd.read_csv(getPath(mainpath,\"NAUTIA_1_0_Local_leaders_v3_results.csv\"))\n",
    "HouseHold = pd.read_csv(getPath(mainpath,\"NAUTIA_1_0_Survey_household_v6_results.csv\"))\n",
    "WomenGroup = pd.read_csv(getPath(mainpath,\"NAUTIA_1_0_Women_Focus_Group2_results.csv\"))\n",
    "SanitationInfra = pd.read_csv(getPath(mainpath,\"NAUTIA_V1_0_Sanitation_Infrastructre_results.csv\"))\n",
    "Priorities = pd.read_csv(getPath(mainpath,\"NAUTIA_1_0_Priorities_v3_results.csv\"))\n",
    "GeneralForm = pd.read_csv(getPath(mainpath,\"NAUTIA_1_0_General_form_v3_results.csv\"))\n",
    "PublicSpace = pd.read_csv(getPath(mainpath,\"NAUTIA_1_0_Public_Space_results.csv\"))\n",
    "WaterInf = pd.read_csv(getPath(mainpath,\"NAUTIA_1_0_Water_Infrastructure_results.csv\"))\n",
    "SanitationInf = pd.read_csv(getPath(mainpath,\"NAUTIA_V1_0_Sanitation_Infrastructre_results.csv\"))\n",
    "WasteManagementInf = pd.read_csv(getPath(mainpath,\"NAUTIA_1_0_Waste_Management_Infrastructure_results.csv\"))\n",
    "EnergyINF = pd.read_csv(getPath(mainpath,\"NAUTIA_1_0_Energy_Infrastructure_results.csv\"))\n",
    "Business = pd.read_csv(getPath(mainpath,\"NAUTIA1_0_Business_surveys_v3_results.csv\"))\n",
    "MobilityINF = pd.read_csv(getPath(mainpath,\"NAUTIA_1_0__Transport_servicesaccess_points_results.csv\")) \n",
    "ComunalServices = pd.read_csv(getPath(mainpath,\"NAUTIA_1_0_Communal_Services_results.csv\"))\n",
    "GeneralCitizen = pd.read_csv(getPath(mainpath,\"NAUTIA_1_0_General_Citizen_Focus_Group_results.csv\"))\n",
    "Shelter = pd.read_csv(getPath(mainpath,\"NAUTIA_1_0_Shelter_results.csv\"))\n",
    "FarmyardCrop = pd.read_csv(getPath(mainpath,\"NAUTIA_1_0_Farmyard_and_Crops_results.csv\"))"
   ]
  },
  {
   "cell_type": "code",
   "execution_count": 5,
   "metadata": {
    "scrolled": false
   },
   "outputs": [
    {
     "data": {
      "text/plain": [
       "(2, 192)"
      ]
     },
     "execution_count": 5,
     "metadata": {},
     "output_type": "execute_result"
    }
   ],
   "source": [
    "Bibliography.shape"
   ]
  },
  {
   "cell_type": "code",
   "execution_count": 6,
   "metadata": {},
   "outputs": [
    {
     "data": {
      "text/plain": [
       "(5, 72)"
      ]
     },
     "execution_count": 6,
     "metadata": {},
     "output_type": "execute_result"
    }
   ],
   "source": [
    "Entities.shape"
   ]
  },
  {
   "cell_type": "code",
   "execution_count": 7,
   "metadata": {
    "scrolled": true
   },
   "outputs": [
    {
     "data": {
      "text/plain": [
       "(8, 22)"
      ]
     },
     "execution_count": 7,
     "metadata": {},
     "output_type": "execute_result"
    }
   ],
   "source": [
    "LocalLeaders.shape"
   ]
  },
  {
   "cell_type": "code",
   "execution_count": 8,
   "metadata": {},
   "outputs": [
    {
     "data": {
      "text/plain": [
       "(29, 42)"
      ]
     },
     "execution_count": 8,
     "metadata": {},
     "output_type": "execute_result"
    }
   ],
   "source": [
    "HouseHold.shape"
   ]
  },
  {
   "cell_type": "code",
   "execution_count": 9,
   "metadata": {},
   "outputs": [
    {
     "data": {
      "text/plain": [
       "(4, 27)"
      ]
     },
     "execution_count": 9,
     "metadata": {},
     "output_type": "execute_result"
    }
   ],
   "source": [
    "WomenGroup.shape"
   ]
  },
  {
   "cell_type": "code",
   "execution_count": 10,
   "metadata": {},
   "outputs": [
    {
     "data": {
      "text/plain": [
       "(43, 14)"
      ]
     },
     "execution_count": 10,
     "metadata": {},
     "output_type": "execute_result"
    }
   ],
   "source": [
    "SanitationInfra.shape"
   ]
  },
  {
   "cell_type": "code",
   "execution_count": 11,
   "metadata": {
    "scrolled": true
   },
   "outputs": [
    {
     "data": {
      "text/plain": [
       "(5, 88)"
      ]
     },
     "execution_count": 11,
     "metadata": {},
     "output_type": "execute_result"
    }
   ],
   "source": [
    "Priorities.shape"
   ]
  },
  {
   "cell_type": "code",
   "execution_count": 12,
   "metadata": {},
   "outputs": [
    {
     "data": {
      "text/plain": [
       "(1, 19)"
      ]
     },
     "execution_count": 12,
     "metadata": {},
     "output_type": "execute_result"
    }
   ],
   "source": [
    "GeneralForm.shape"
   ]
  },
  {
   "cell_type": "code",
   "execution_count": 13,
   "metadata": {},
   "outputs": [
    {
     "data": {
      "text/plain": [
       "(9, 14)"
      ]
     },
     "execution_count": 13,
     "metadata": {},
     "output_type": "execute_result"
    }
   ],
   "source": [
    "PublicSpace.shape"
   ]
  },
  {
   "cell_type": "code",
   "execution_count": 14,
   "metadata": {},
   "outputs": [
    {
     "data": {
      "text/plain": [
       "(38, 13)"
      ]
     },
     "execution_count": 14,
     "metadata": {},
     "output_type": "execute_result"
    }
   ],
   "source": [
    "WaterInf.shape"
   ]
  },
  {
   "cell_type": "code",
   "execution_count": 15,
   "metadata": {},
   "outputs": [
    {
     "data": {
      "text/plain": [
       "(43, 14)"
      ]
     },
     "execution_count": 15,
     "metadata": {},
     "output_type": "execute_result"
    }
   ],
   "source": [
    "SanitationInf.shape"
   ]
  },
  {
   "cell_type": "code",
   "execution_count": 16,
   "metadata": {},
   "outputs": [
    {
     "data": {
      "text/plain": [
       "(3, 10)"
      ]
     },
     "execution_count": 16,
     "metadata": {},
     "output_type": "execute_result"
    }
   ],
   "source": [
    "WasteManagementInf.shape"
   ]
  },
  {
   "cell_type": "code",
   "execution_count": 17,
   "metadata": {},
   "outputs": [
    {
     "data": {
      "text/plain": [
       "(12, 38)"
      ]
     },
     "execution_count": 17,
     "metadata": {},
     "output_type": "execute_result"
    }
   ],
   "source": [
    "EnergyINF.shape"
   ]
  },
  {
   "cell_type": "code",
   "execution_count": 18,
   "metadata": {},
   "outputs": [
    {
     "data": {
      "text/plain": [
       "(21, 25)"
      ]
     },
     "execution_count": 18,
     "metadata": {},
     "output_type": "execute_result"
    }
   ],
   "source": [
    "Business.shape"
   ]
  },
  {
   "cell_type": "code",
   "execution_count": 19,
   "metadata": {},
   "outputs": [
    {
     "data": {
      "text/plain": [
       "(5, 10)"
      ]
     },
     "execution_count": 19,
     "metadata": {},
     "output_type": "execute_result"
    }
   ],
   "source": [
    "MobilityINF.shape"
   ]
  },
  {
   "cell_type": "code",
   "execution_count": 20,
   "metadata": {},
   "outputs": [
    {
     "data": {
      "text/plain": [
       "(83, 63)"
      ]
     },
     "execution_count": 20,
     "metadata": {},
     "output_type": "execute_result"
    }
   ],
   "source": [
    "ComunalServices.shape"
   ]
  },
  {
   "cell_type": "code",
   "execution_count": 21,
   "metadata": {},
   "outputs": [
    {
     "data": {
      "text/plain": [
       "(4, 43)"
      ]
     },
     "execution_count": 21,
     "metadata": {},
     "output_type": "execute_result"
    }
   ],
   "source": [
    "GeneralCitizen.shape"
   ]
  },
  {
   "cell_type": "code",
   "execution_count": 22,
   "metadata": {
    "scrolled": true
   },
   "outputs": [
    {
     "data": {
      "text/plain": [
       "(28, 27)"
      ]
     },
     "execution_count": 22,
     "metadata": {},
     "output_type": "execute_result"
    }
   ],
   "source": [
    "Shelter.shape"
   ]
  },
  {
   "cell_type": "code",
   "execution_count": 23,
   "metadata": {},
   "outputs": [
    {
     "data": {
      "text/plain": [
       "(22, 18)"
      ]
     },
     "execution_count": 23,
     "metadata": {},
     "output_type": "execute_result"
    }
   ],
   "source": [
    "FarmyardCrop.shape"
   ]
  },
  {
   "cell_type": "code",
   "execution_count": 24,
   "metadata": {},
   "outputs": [
    {
     "ename": "NameError",
     "evalue": "name 'Camp_ClimaticRegion' is not defined",
     "output_type": "error",
     "traceback": [
      "\u001b[1;31m---------------------------------------------------------------------------\u001b[0m",
      "\u001b[1;31mNameError\u001b[0m                                 Traceback (most recent call last)",
      "\u001b[1;32m<ipython-input-24-437c1740dcdd>\u001b[0m in \u001b[0;36m<module>\u001b[1;34m\u001b[0m\n\u001b[1;32m----> 1\u001b[1;33m \u001b[0mCamp_ClimaticRegion\u001b[0m\u001b[1;33m\u001b[0m\u001b[1;33m\u001b[0m\u001b[0m\n\u001b[0m",
      "\u001b[1;31mNameError\u001b[0m: name 'Camp_ClimaticRegion' is not defined"
     ]
    }
   ],
   "source": [
    "Camp_ClimaticRegion"
   ]
  },
  {
   "cell_type": "code",
   "execution_count": null,
   "metadata": {},
   "outputs": [],
   "source": [
    "community = [\"Shimelba\"]\n",
    "community = pd.DataFrame(community)\n",
    "mkCSV(community,\"community.csv\")\n",
    "#%% CAMP\n",
    "\n",
    "df1 = dfFix(Bibliography,\"Implementation date of the refugee camp (year)\",\"Migration reasons\")\n",
    "df2 = dfFix(Entities,\"GENERAL_INFORMATION:Secondary_movement\",\"GENERAL_INFORMATION:Relationship\")\n",
    "camp = concatDF(df1,df2)\n",
    "camp = dropRow(camp,0)\n",
    "mkCSV(camp,\"camp.csv\") \n",
    "\n",
    "#%%Country\n",
    "\n",
    "Country = dfFix(Bibliography,\"Country's name\", \"Number of inhabitants (#)\")\n",
    "mkCSV(Country,\"Country.csv\")\n",
    "\n",
    "#%%GENERAL DATA\n",
    "\n",
    "df1 = dfFix(Bibliography,\"Mujeres menores de 5 años (%)\",\"Total population\")\n",
    "df2 = dfFix(Bibliography,\"Growth rate of populatoin (%)\",\"Culture\")\n",
    "GD_Demography = concatDF(df1,df2) \n",
    "mkCSV(GD_Demography,\"GD_Demography.csv\")\n",
    "\n",
    "GD_Ethnicgroup = dfFix(Bibliography,\"Ethnich group 1\",\"Religion\") \n",
    "mkCSV(GD_Ethnicgroup,\"GD_Ethnicgroup.csv\")\n",
    "\n",
    "df1 = dfFix(Bibliography,\"Parliamentary republic\",\"Territorial and Urbanistic\")\n",
    "GD_Government = df1 \n",
    "GD_Government = GD_Government.isin([\"Si\"]) #Genera boolean DF. True si elem == \"Si\"\n",
    "GD_Government = GD_Government.any() #Lista con indice de columna y True si un contiene un True o False en caso contrario\n",
    "GD_Government = list(GD_Government[GD_Government == True].index) #lista de indices con true\n",
    "GD_Government = pd.DataFrame(GD_Government)\n",
    "mkCSV(GD_Government,\"GD_Government.csv\")\n",
    "\n",
    "GD_Economy = dfFix(Bibliography,\"Agriculture (%)\",\"Government\") \n",
    "mkCSV(GD_Economy,\"GD_Economy.csv\")\n",
    "\n",
    "df1 = dfFix(Bibliography,\"Urban population (%)\",\"Population density\") \n",
    "df2 = dfFix(Bibliography,\"Urban (inhabitants/hectares)\",\"Infrastructures\") \n",
    "GD_Urbanism = concatDF(df1,df2) \n",
    "mkCSV(GD_Urbanism,\"GD_Urbanism.csv\")\n",
    "\n",
    "df1 = dfFix(Bibliography,\"Rural agua (%)\",\"Access to improved sanitation\") \n",
    "df2 = dfFix(Bibliography,\"Rural saneamiento(%)\",\"Access to electricity\") \n",
    "df3 = dfFix(Bibliography,\"Rural electricidad (%)\",\"Matrix of electricity generation\") \n",
    "GD_Infrastruture = concatDF(concatDF(df1,df2),df3) \n",
    "mkCSV(GD_Infrastruture,\"GD_Infrastruture.csv\")\n",
    "\n",
    "GD_ElectricGenerationMix = dfFix(Bibliography,\"Hydropower (%)\",\"High voltage (kV)\") \n",
    "mkCSV(GD_ElectricGenerationMix,\"GD_ElectricGenerationMix.csv\")\n",
    "\n",
    "GD_ServiceAcces = dfFix(Bibliography,\"Illiteracy rate (%)\",\"Shelter\") \n",
    "mkCSV(GD_ServiceAcces,\"GD_ServiceAcces.csv\")\n",
    "\n",
    "GD_Shelter = dfFix(Bibliography,\"Slum population rate (%)\",\"SPECIFIC INFORMATION - SETTLEMENTS LEVEL\") \n",
    "mkCSV(GD_Shelter,\"GD_Shelter.csv\")\n",
    "\n",
    "#%%COMMUN DATA\n",
    "\n",
    "Commun_Religion = dfFix(Bibliography,\"Religion 1\",\"Language\")\n",
    "df1 = dropRow(Commun_Religion,1)\n",
    "np_array1 = np.array(df1)\n",
    "df2 = dropRow(Commun_Religion,0)\n",
    "np_array2 = np.array(df2)\n",
    "np_array3 = np.concatenate((np_array1,np_array2), axis = 1)\n",
    "Commun_Religion = pd.DataFrame(np_array3)\n",
    "Commun_Religion = Commun_Religion.transpose()\n",
    "Commun_Religion = Commun_Religion[0].unique()\n",
    "Commun_Religion = pd.DataFrame(Commun_Religion)\n",
    "Commun_Religion = Commun_Religion.dropna()\n",
    "mkCSV(Commun_Religion,\"Commun_Religion.csv\")\n",
    "\n",
    "Commun_Language = dfFix(Bibliography,\"Language 1\",\"Economy and well-being\")\n",
    "df1 = dropRow(Commun_Language,1)\n",
    "np_array1 = np.array(df1)\n",
    "df2 = dropRow(Commun_Language,0)\n",
    "np_array2 = np.array(df2)\n",
    "np_array3 = np.concatenate((np_array1,np_array2), axis = 1)\n",
    "Commun_Language = pd.DataFrame(np_array3)\n",
    "Commun_Language = Commun_Language.transpose()\n",
    "Commun_Language = Commun_Language[0].unique()\n",
    "Commun_Language = pd.DataFrame(Commun_Language)\n",
    "Commun_Language = Commun_Language.dropna()\n",
    "mkCSV(Commun_Language,\"Commun_Language.csv\")\n",
    "\n",
    "#%% Specific DATA CAMP\n",
    "\n",
    "Camp_MovementReason = dfFix(Bibliography,\"Reason 1\",\"Climate\")\n",
    "Camp_MovementReason = dropRow(Camp_MovementReason,0).dropna(axis = 1)\n",
    "Camp_MovementReason = Camp_MovementReason.transpose()\n",
    "mkCSV(Camp_MovementReason,\"Camp_MovementReason.csv\")\n",
    "\n",
    "Camp_Integration = dfFix(Entities,\"GENERAL_INFORMATION:Relationship\",\"GENERAL_INFORMATION:Movement_outside\")\n",
    "mkCSV(Camp_Integration,\"Camp_Integration.csv\")\n",
    "\n",
    "Camp_NaturalHazard = dfFix(Entities,\"Enviormental_Issues:Risk:Risk_Flood\",\"Enviormental_Issues:Deforestation\")\n",
    "Camp_NaturalHazard = getSubColumnNames(Camp_NaturalHazard,30)\n",
    "mkCSV(Camp_NaturalHazard,\"Camp_NaturalHazard.csv\")\n",
    "\n",
    "Camp_NaturalHazard_Has_Camp = dfFix(Entities,\"Enviormental_Issues:Risk:Risk_Flood\",\"Enviormental_Issues:Deforestation\")\n",
    "Camp_NaturalHazard_Has_Camp.transpose()\n",
    "mkCSV(Camp_NaturalHazard_Has_Camp,\"Camp_NaturalHazard_Has_Camp.csv\") #1:Probar con datos 2:FKs4\n",
    "\n",
    "Camp_LocalVegetation = dfFix(Entities,\"Enviormental_Issues:Native_Plant\",\"Enviormental_Issues:Native_Crops\")\n",
    "Camp_LocalVegetation = separateValues(Camp_LocalVegetation)\n",
    "mkCSV(Camp_LocalVegetation,\"Camp_LocalVegetation.csv\") #1:Probar con datos ¿2:MODIFICAR FOLMULARIO? \n",
    "\n",
    "Camp_LocalCrop = dfFix(Entities,\"Enviormental_Issues:Native_Crops\",\"Water_table\")\n",
    "Camp_LocalCrop = separateValues(Camp_LocalCrop)\n",
    "mkCSV(Camp_LocalCrop,\"Camp_LocalCrop.csv\") #1:Probar con datos 2:MODIFICAR FOLMULARIO?\n",
    "\n",
    "df3 = dfFix(Entities,\"Enviormental_Issues:High_enviormental_value\",\"Enviormental_Issues:Native_Plant\")\n",
    "df4 = dfFix(Entities,\"Enviormental_Issues:Deforestation\",\"Enviormental_Issues:High_enviormental_value\")\n",
    "Camp_Enviroment = concatDF(df3,df4) #NO DEFINITIVO, controlar tipos de datos (Bool)\n",
    "mkCSV(Camp_Enviroment,\"Camp_Enviroment.csv\")\n",
    "\n",
    "df1 = dfFix(Bibliography,\"Tropical (Write one: Af, Aw or Am)\",\"Temperature\")\n",
    "df1 = dropRow(df1,0)\n",
    "df1 = df1.transpose()\n",
    "df1 = df1.dropna()\n",
    "df1 = df1.transpose()\n",
    "df2 = dfFix(Bibliography,\"Max (ºC)\",\"Annual precipitation\")\n",
    "df2 = dropRow(df2,0)\n",
    "df3 = dfFix(Bibliography,\"Max (mm)\",\"Additional information\")\n",
    "df3 = dropRow(df3,0)\n",
    "Camp_ClimaticRegion = concatDF(df1,concatDF(df2,df3))\n",
    "mkCSV(Camp_ClimaticRegion,\"Camp_ClimaticRegion.csv\")\n",
    "\n",
    "Camp_EnergySource = ['diesel','Kerosene','Ethanol','gas','firewood','diesel genset','electricity','solar panel']\n",
    "Camp_EnergySource = pd.DataFrame(Camp_EnergySource)\n",
    "mkCSV(Camp_EnergySource,\"Camp_EnergySource.csv\")\n",
    "\n",
    "df1 = dfFix(Entities,\"Fuel_Cost:Fuel_Cost_Diesel\",\"ENERGY:Electricity_network\")\n",
    "df2 = dfFix(LocalLeaders,\"Costs:cost_firewood\",\"meta:instanceID\")\n",
    "Camp_EnergySource_Has_Camp = concatDF(df1,df2)\n",
    "mkCSV(Camp_EnergySource_Has_Camp,\"Camp_EnergySource_Has_Camp.csv\") #ESTA MAL. Comprobar con datos reales\n",
    "\n",
    "Camp_Mobility = dfFix(Entities,\"GENERAL_INFORMATION:Movement_outside\",\"Population:Women:Infants\")\n",
    "mkCSV(Camp_Mobility,\"Camp_Mobility.csv\")\n",
    "\n",
    "Camp_Shelter = dfFix(Entities,\"Shelter:Housing_Improvement\",\"Shelter:Total_shelter\")\n",
    "mkCSV(Camp_Shelter,\"Camp_Shelter.csv\")\n",
    "\n",
    "#%%SocioEconomic DATA\n",
    "#%%SE Demographyc And Culture\n",
    "\n",
    "df1 = dfFix(Entities,\"Population:Women:Infants\",\"Population:Men:Infants_001\")\n",
    "df2 = dfFix(Entities,\"Population:Men:Infants_001\",\"Fuel_Cost:Main_Fuel\")\n",
    "df1 = np.array(df1)\n",
    "df2 = np.array(df2)\n",
    "array = np.array([],dtype = int)\n",
    "array = df1+df2\n",
    "SE_population = pd.DataFrame(array)\n",
    "mkCSV(SE_population,\"SE_population.csv\")\n",
    "\n",
    "SE_HouseHoldComposition = dfFix(HouseHold,\"General:Old_women\",\"Shelter:No_Rooms\")\n",
    "array  = np.array(SE_HouseHoldComposition)\n",
    "array[np.isnan(array)] = 0\n",
    "array = array.astype(int)\n",
    "young = array[:,1]+array[:,3]\n",
    "array[:,1] = array[:,2]\n",
    "array[:,2] = young\n",
    "array[:,3] = array[:,4]\n",
    "array = np.delete(array,4,1)\n",
    "SE_HouseHoldComposition = pd.DataFrame(array)\n",
    "mkCSV(SE_HouseHoldComposition,\"SE_HouseHoldComposition.csv\")\n",
    "\n",
    "SE_PersonalHygiene = dfFix(Entities,\"Sanitation:Personal_hygiene\",\"Sanitation:Excreta\")\n",
    "mkCSV(SE_PersonalHygiene,\"SE_PersonalHygiene.csv\")\n",
    "\n",
    "SE_CleaningMaterial = dfFix(Entities,\"Sanitation:Excreta\",\"Sanitation:Open_defecation\")\n",
    "mkCSV(SE_CleaningMaterial,\"SE_CleaningMaterial.csv\")\n",
    "\n",
    "#%%Personal Safety\n",
    "\n",
    "SE_SafetyPlace = dfFix(WomenGroup,\"Feel_Safe:Street_morning\",\"Feel_Safe:Firewood_collection_001\")\n",
    "SE_SafetyPlace = getSubColumnNames(SE_SafetyPlace,10)\n",
    "mkCSV(SE_SafetyPlace,\"SE_SafetyPlace.csv\") \n",
    "\n",
    "SE_SafetyPlace_has_Community = dfFix(WomenGroup,\"Feel_Safe:Street_morning\",\"Feel_Safe:Firewood_collection_001\")\n",
    "mkCSV(SE_SafetyPlace_has_Community,\"SE_SafetyPlace_has_Community.csv\") \n",
    "\n",
    "SE_ConflictArea = dfFix(WomenGroup,\"Trouble_Spots\",\"Cooking_Details:INSTRUCTION_001\")\n",
    "SE_ConflictArea = SE_ConflictArea.dropna()\n",
    "SE_ConflictArea = separateValues(SE_ConflictArea)\n",
    "mkCSV(SE_ConflictArea,\"SE_ConflictArea.csv\") #IMPORRANTE Los datos entran como string de lugares, pero se quiere guardar coordenadas.\n",
    "\n",
    "df1 = dfFix(LocalLeaders,\"Settlement_security:secur_committees\",\"Food_security:cultivation_months\")\n",
    "df1 = df1.isin([\"yes\"]) #Genera boolean DF. True si elem == \"yes\"\n",
    "df2 = dfFix(Entities,\"Women_Patrol\",\"Education_Issues\")\n",
    "df2 = df2.isin([\"Yes\"]) #Genera boolean DF. True si elem == \"Yes\"\n",
    "SE_SafetyCommittee = concatDF(df1,df2)\n",
    "mkCSV(SE_SafetyCommittee,\"SE_SafetyCommittee.csv\") \n",
    "\n",
    "SE_SafetyLatrines = dfFix(SanitationInfra, \"Public_Latrines:Sex_segregated\",\"Slab\")\n",
    "SE_SafetyLatrines = SE_SafetyLatrines.isin([\"yes\"]) #Genera boolean DF. True si elem == \"Yes\"\n",
    "mkCSV(SE_SafetyLatrines,\"SE_SafetyLatrines.csv\") \n",
    "\n",
    "\n",
    "#%%SE_Economy\n",
    "\n",
    "SE_Economy = dfFix(LocalLeaders, \"Costs:cost_basic_basket\",\"Costs:cost_firewood\")\n",
    "mkCSV(SE_Economy,\"SE_Economy.csv\") \n",
    "\n",
    "SE_IncomeTtype = dfFix(HouseHold, \"Economy:Main_inco\",\"Economy:Money\")\n",
    "mkCSV(SE_IncomeTtype,\"SE_IncomeTtype.csv\") \n",
    "\n",
    "df1 = dfFix(HouseHold, \"General:Gender\",\"General:Settlement\")\n",
    "df2 = dfFix(HouseHold, \"Economy:Money\",\"Economy:Food\")\n",
    "SE_IncomeTtype_has_Community = concatDF(df1,df2)\n",
    "mkCSV(SE_IncomeTtype_has_Community,\"SE_IncomeTtype_has_Community.csv\") #mucho ojo con las PKs y FKs\n",
    "\n",
    "SE_ExpenseType = ['food','clothes','water','education','transport','health','energy']\n",
    "SE_ExpenseType = pd.DataFrame(SE_ExpenseType)\n",
    "mkCSV(SE_ExpenseType,\"SE_ExpenseType.csv\")\n",
    "\n",
    "df1 = dfFix(HouseHold, \"General:Gender\",\"General:Settlement\")\n",
    "df2 = dfFix(HouseHold, \"Economy:Food\",\"meta:instanceID\")\n",
    "SE_ExpenseType_has_Community = get_claveValor(df1,df2)\n",
    "mkCSV(SE_ExpenseType_has_Community,\"SE_ExpenseType_has_Community.csv\")\n",
    "\n",
    "priorities = ['energy','shelter','water access','sanitation','education','health','public space','food','TIC','work','waste management','public transport','religious center','socio cultural center','market']\n",
    "priorities = pd.DataFrame(priorities)\n",
    "mkCSV(priorities,\"SE_Priorities.csv\")\n",
    "\n",
    "#df1 = dfFix(Priorities,\"group_yf0yl72:Energy_1\",\"Priority_2:Instruction\")\n",
    "#df2 = dfFix(Priorities,\"Priority_2:Energy_2\",\"Priority_3:Instruction_001\")\n",
    "#df2 = dfFix(Priorities,\"Priority_3:Energy_3\",\"Priority_4:Instruction_002\")\n",
    "#[...]\n",
    "#mkCSV(SE_Priorities_has_Community,\"SE_Priorities_has_Community.csv\")  continuar cuando se tenga acceso a servidor ODK\n",
    "\n",
    "#%% GenderData\n",
    "\n",
    "#SE_GenderData = dfFix(Entities,\"\",\"\")\n",
    "#mkCSV(SE_GenderData,\"SE_GenderData.csv\") No existe dicho dato en los formularios\n",
    "\n",
    "SE_WorkType = [\"Firewood Collection\", \"Cooking\"]\n",
    "SE_WorkType = pd.DataFrame(SE_WorkType)\n",
    "mkCSV(SE_WorkType,\"SE_WorkType\")\n",
    "\n",
    "df1 = dfFix(GeneralCitizen,\"Firewood_collection:Childs\",\"Cooking:Childs_001\")\n",
    "df2 = dfFix(GeneralCitizen,\"Cooking:Childs_001\",\"TICs_Knowledge:Phone_Call\")\n",
    "df1 = df1.transpose()\n",
    "df2 = df2.transpose()\n",
    "df1 = df1.reset_index(drop = True)\n",
    "df2 = df2.reset_index(drop = True)\n",
    "SE_WorkType_has_Community = concatDF(df1,df2)\n",
    "SE_WorkType_has_Community = SE_WorkType_has_Community.transpose()\n",
    "mkCSV(SE_WorkType_has_Community,\"SE_WorkType_has_Community\")\n",
    "\n",
    "#%%GOVERNMENT_DATA\n",
    "#G_PublicPolitic no forma parte ETL\n",
    "\n",
    "dfPublic = dfFix(Bibliography,\"Public institutions\",\"Private institutions\")\n",
    "dfPrivate = dfFix(Bibliography,\"Private institutions\",\"Non-profit organizations/NGOs\")\n",
    "dfNonProfit = dfFix(Bibliography,\"Non-profit organizations/NGOs\",\"International cooperation agencies\")\n",
    "dfInternational = dfFix(Bibliography,\"International cooperation agencies\",\"Local representatives/local committees/ local liders\")\n",
    "dfLocal = dfFix(Bibliography,\"Local representatives/local committees/ local liders\")\n",
    "\n",
    "G_PoliticalActor1 = politicalActor(dfPublic,dfPrivate,dfNonProfit,dfInternational,dfLocal,0)\n",
    "mkCSV(G_PoliticalActor1,\"G_PoliticalActor1.csv\")\n",
    "G_PoliticalActor2 = politicalActor(dfPublic,dfPrivate,dfNonProfit,dfInternational,dfLocal,1)\n",
    "mkCSV(G_PoliticalActor2,\"G_PoliticalActor2.csv\")\n",
    "\n",
    "#%%FISICO AMBIENTALES DATA\n",
    "\n",
    "df1 = dfFix(Bibliography,\"Latitude\",\"Topography\")\n",
    "df2 = dfFix(Entities,\"Water_table\",\"Sanitation:Personal_hygiene\")\n",
    "FA_geographicIdentification = concatDF(df1,df2)\n",
    "mkCSV(FA_geographicIdentification,\"FA_geographicIdentification.csv\")\n",
    "\n",
    "FA_Topography = dfFix(Bibliography,\"Upper bound (m)\",\"FOOD SECURITY\")\n",
    "mkCSV(FA_Topography,\"FA_Topography.csv\")\n",
    "\n",
    "FA_NaturalResource = dfFix(Bibliography,\"r.1\",\"ACTORS (PARTNERS) IDENTIFICATION\")\n",
    "FA_NaturalResource = dropRow(FA_NaturalResource,0)\n",
    "FA_NaturalResource = FA_NaturalResource.dropna(axis = 1)\n",
    "FA_NaturalResource = np.array(FA_NaturalResource)\n",
    "bound = []\n",
    "resource = []\n",
    "for row in FA_NaturalResource:\n",
    "    for elem in row:\n",
    "        bound = np.append(bound,elem)\n",
    "        resource = np.append(resource,'river')       \n",
    "bound = pd.DataFrame(bound)\n",
    "bound = bound.reset_index(drop = True)\n",
    "resource = pd.DataFrame(resource)\n",
    "resource = resource.reset_index(drop = True)\n",
    "FA_NaturalResource = concatDF(bound,resource)\n",
    "mkCSV(FA_NaturalResource,\"FA_NaturalResource.csv\")\n",
    "\n",
    "#%% URBANISM DATA\n",
    "\n",
    "df1 = dfFix(Entities,\"Urban_Planning_001:Urban_Planning\",\"Urban_Planning_001:Growth_area\")\n",
    "df2 = dfFix(GeneralForm,\"Urban_information:Boundary_limits\",\"Urban_information:Drain_system\") \n",
    "df3 = dfFix(Entities,\"Urban_Planning_001:Land_Managment\",\"Urban_Planning_001:Risk_Managment\")\n",
    "df4 = dfFix(Entities,\"Urban_Planning_001:Growth_area\",\"Urban_Planning_001:Land_Managment\")\n",
    "df5 = dfFix(Entities,\"Urban_Planning_001:Risk_Managment\",\"Shelter:Housing_Improvement\")\n",
    "U_Urbanism = concatDF(df1,concatDF(df2,concatDF(df3,concatDF(df4,df5))))\n",
    "\n",
    "#U_Area No está claro el origen de datos\n",
    "\n",
    "#U_LandUse no sé de donde se coge la información del Plano\n",
    "\n",
    "U_Road = dfFix(GeneralForm,\"Urban_information:Drain_system\",\"Energy:electrical_grid\") \n",
    "mkCSV(U_Road,\"U_Road.csv\") #Falta la información que sale de Plano\n",
    "\n",
    "df1 = dfFix(PublicSpace,\"Record_your_current_location:Latitude\",\"Record_your_current_location:Accuracy\") \n",
    "df2 = dfFix(PublicSpace,\"Details:Shade_Areas\",\"meta:instanceID\") \n",
    "df2 = df2.isin([\"yes\"]) #Genera boolean DF. True si elem == \"yes\"\n",
    "U_RecreationalArea = concatDF(df1,df2)\n",
    "mkCSV(U_RecreationalArea,\"U_RecreationalArea.csv\")\n",
    "\n",
    "#U_PublicSpace no se de donde se coge la información del plano\n",
    "\n",
    "#%%INFRASTRUCTURE DATA\n",
    "\n",
    "#%%Water\n",
    "\n",
    "df1 = dfFix(Entities,\"Water:Quality\",\"Water:Treatment\")\n",
    "df2 = dfFix(Entities,\"Water:Comsuption\",\"Water:Time\")\n",
    "INF_WaterInfrastructure = concatDF(df1,df2)\n",
    "mkCSV(INF_WaterInfrastructure,\"INF_WaterInfrastructure.csv\")    \n",
    "\n",
    "INF_TimeSpent = dfFix(HouseHold,\"Water:Water_col\",\"health_001:Healthcare\")\n",
    "mkCSV(INF_TimeSpent,\"INF_TimeSpent.csv\")\n",
    "\n",
    "INF_PotabilitationSystem = dfFix(Entities,\"Water:Treatment\",\"Water:Comsuption\")\n",
    "INF_PotabilitationSystem = separateValues(INF_PotabilitationSystem)\n",
    "mkCSV(INF_PotabilitationSystem,\"INF_PotabilitationSystem.csv\")\n",
    "\n",
    "df1 = dfFix(WaterInf,\"Record_your_current_location:Latitude\",\"Record_your_current_location:Accuracy\")\n",
    "df2 = dfFix(WaterInf,\"Availability\",\"meta:instanceID\")\n",
    "df2 = df2.isin([\"yes\"]) #Genera boolean DF. True si elem == \"yes\"\n",
    "INF_WaterPoint = concatDF(df1,df2)\n",
    "mkCSV(INF_WaterPoint,\"INF_WaterPoint.csv\")\n",
    "\n",
    "#INF_IrrigationSystem No se encuentra el origen de datos.\n",
    "#%%Sanitation\n",
    "\n",
    "df1 = dfFix(Entities,\"Sanitation:Open_defecation\",\"Sanitation:Type_of_Latrine\")\n",
    "df1 = df1.isin([\"yes\"]) #Genera boolean DF. True si elem == \"yes\"\n",
    "df2 = dfFix(Entities,\"Sanitation:Type_of_Latrine\",\"Sanitation:Individual_Latrines\")\n",
    "INF_SanitationAccess = concatDF(df1,df2)\n",
    "mkCSV(INF_SanitationAccess,\"INF_SanitationAccess.csv\")\n",
    "\n",
    "INF_SanitationSystmeQuality = dfFix(SanitationInf,\"Slab\",\"meta:instanceID\")\n",
    "INF_SanitationSystmeQuality = INF_SanitationSystmeQuality.isin([\"yes\"]) #Genera boolean DF. True si elem == \"yes\"\n",
    "mkCSV(INF_SanitationSystmeQuality,\"INF_SanitationSystmeQuality.csv\")\n",
    "\n",
    "#%%WasteManagement\n",
    "\n",
    "INF_WasteManagementInf = dfFix(Entities,\"Waste_Managment:Waste_Collection\",\"Waste_Managment:Landfill_Details:Location_1\")\n",
    "mkCSV(INF_WasteManagementInf,\"INF_WasteManagementInf.csv\")\n",
    "\n",
    "INF_landFill = dfFix(Entities,\"Waste_Managment:Landfill_Details:Location_1\",\"Water:Quality\")\n",
    "mkCSV(INF_landFill,\"INF_landFill.csv\")\n",
    "\n",
    "INF_CollectionPoints = dfFix(WasteManagementInf,\"Record_your_current_location:Latitude\",\"Record_your_current_location:Accuracy\")\n",
    "mkCSV(INF_CollectionPoints,\"INF_CollectionPoints.csv\")\n",
    "\n",
    "\n",
    "#%%Energy\n",
    "\n",
    "df1 = dfFix(GeneralForm,\"Energy:electrical_grid\",\"Energy:power_point\")\n",
    "df1 = df1.isin([\"yes\"]) #Genera boolean DF. True si elem == \"yes\"\n",
    "df2 = dfFix(Entities,\"ENERGY:Electricity_network\",\"ENERGY:Covered_services\")\n",
    "df2 = df2.isin([\"yes\"]) #Genera boolean DF. True si elem == \"yes\"\n",
    "df3 = dfFix(Entities,\"ENERGY:Power_failure\",\"ENERGY:Street_Light\")\n",
    "df4 = dfFix(Entities,\"ENERGY:Street_Light\",\"Urban_Planning_001:Urban_Planning\")\n",
    "df4 = df4.isin([\"yes\"]) #Genera boolean DF. True si elem == \"yes\"\n",
    "df5 = dfFix(GeneralForm,\"Energy:Distance_ST\",\"Transport:Kind_transport_inside\")\n",
    "INF_EnergyInfrastructure = concatDF(df1,(concatDF(df2,concatDF(df3,concatDF(df4,df5)))))\n",
    "mkCSV(INF_EnergyInfrastructure,\"INF_EnergyInfrastructure\")\n",
    "\n",
    "INF_ExpandPlandBeneficiaries = dfFix(Entities,\"ENERGY:Covered_services\",\"ENERGY:Power_failure\") \n",
    "INF_ExpandPlandBeneficiaries = separateValues(INF_ExpandPlandBeneficiaries)\n",
    "mkCSV(INF_ExpandPlandBeneficiaries,\"INF_ExpandPlandBeneficiaries.csv\") \n",
    "\n",
    "INF_GenerationSource = ['electrical grid','diesel genset','solar panel','other']\n",
    "INF_GenerationSource = pd.DataFrame(INF_GenerationSource)\n",
    "mkCSV(INF_GenerationSource,\"INF_GenerationSource.csv\")\n",
    "\n",
    "#INF_GenerationSource_has_Community # No se puede guardar la informacion de los requisitos porque no se pregunta la info completa, solo a negocios\n",
    "\n",
    "df1 = dfFix(EnergyINF,\"Ofert:Type_of_water_supply\",\"Ofert:Picture\")\n",
    "df2 = dfFix(EnergyINF,\"Ofert:Power_of_generation\",\"Ofert:Power_of_generation_001\")\n",
    "INF_GenerationSystem = concatDF(df1,df2)\n",
    "mkCSV(INF_GenerationSystem,\"INF_GenerationSystem.csv\")\n",
    "\n",
    "#INF_Appliance #problema PNL\n",
    "\n",
    "df1 = dfFix(GeneralForm,\"Energy:Stove\",\"Energy:Firewood_weight\")\n",
    "df2 = dfFix(GeneralForm,\"Energy:fuel_cooking\",\"Energy:technology_street_lighting\")\n",
    "df3 = dfFix(GeneralForm, \"Energy:Firewood_weight\",\"Energy:fuel_cooking\")\n",
    "INF_Kitchen = concatDF(df1,concatDF(df2,df3))\n",
    "mkCSV(INF_Kitchen,\"INF_Kitchen.csv\")\n",
    "\n",
    "INF_CookWomen = dfFix(WomenGroup,\"Cooking_Details:Cooking_Inside\",\"Street_light\")\n",
    "mkCSV(INF_CookWomen,\"INF_CookWomen.csv\")\n",
    "\n",
    "df1 = dfFix(Entities,\"ENERGY:Street_Light\",\"Urban_Planning_001:Urban_Planning\")\n",
    "df1 = df1.isin([\"yes\"])\n",
    "df2 = dfFix(GeneralForm,\"Energy:Distance_ST\",\"Transport:Kind_transport_inside\")\n",
    "df3 = dfFix(WomenGroup,\"Feel_Safe:Street_Night\",\"Feel_Safe:Bath_Area\")\n",
    "INF_PublicLighting = concatDF(df1,(concatDF(df2,df3)))\n",
    "mkCSV(INF_PublicLighting,\"INF_PublicLighting.csv\")\n",
    "\n",
    "INF_LightingTech = dfFix(GeneralForm,\"Energy:technology_street_lighting\",\"Energy:Distance_ST\")\n",
    "mkCSV(INF_LightingTech,\"INF_LightingTech.csv\")\n",
    "\n",
    "\n",
    "df1 = dfFix(EnergyINF,\"Item\",\"Sector\")\n",
    "df1 = df1.isin([\"street light\"])\n",
    "INF_StreetLamp = dfFix(EnergyINF,\"Record_your_current_location:Latitude\",\"Record_your_current_location:Accuracy\")\n",
    "INF_StreetLamp = get_valueBySector(df1,INF_StreetLamp)\n",
    "mkCSV(INF_StreetLamp,\"INF_StreetLamp.csv\")  #Necesario probar con datos\n",
    "\n",
    "#%%Mobility Infrastructure\n",
    "#INF_MobilityInfrasctucture = dfFix(Entities,\"\",\"\") #no se encuentra el dato en origen\n",
    "\n",
    "INF_MobilityPoint = dfFix(MobilityINF,\"Record_your_current_location:Latitude\",\"Record_your_current_location:Accuracy\")\n",
    "mkCSV(INF_MobilityPoint,\"INF_MobilityPoint.csv\")\n",
    "\n",
    "INF_MobilityWay = ['walking','motrocycle','bike','truck','animal','car']\n",
    "INF_MobilityWay = pd.DataFrame(INF_MobilityWay)\n",
    "mkCSV(INF_MobilityWay,\"INF_MobilityWay.csv\")\n",
    "\n",
    "#INF_MobilityWay_has_Community #Pensar durante proceso FK\n",
    "\n",
    "#%% SERVICIOS DATA\n",
    "#%%Ceneter\n",
    "\n",
    "df1 = dfFix(ComunalServices,\"General_Information:Type_of_service\",\"General_Information:Other_service\")\n",
    "df1 = df1.isin([\"educational_center\"])\n",
    "df2 = dfFix(ComunalServices,\"General_Information:Record_your_current_location:Latitude\",\"General_Information:Record_your_current_location:Accuracy\")\n",
    "df3 = dfFix(ComunalServices,\"Education_level\",\"education_details:Subjects\")\n",
    "df4 = dfFix(ComunalServices,\"education_details:Start_001\",\"Health_Center\")\n",
    "S_EducationalCenter = concatDF(df2,(concatDF(df3,df4)))\n",
    "S_EducationalCenter = get_valueBySector(df1,S_EducationalCenter)\n",
    "mkCSV(S_EducationalCenter,\"S_EducationalCenter.csv\")\n",
    "\n",
    "df1 = dfFix(ComunalServices,\"education_details:Subjects\",\"education_details:Subjects_001\")\n",
    "df1 = df1.dropna()\n",
    "S_Subject = separateValues(df1)\n",
    "mkCSV(S_Subject,\"S_Subject.csv\")\n",
    "\n",
    "#S_Subject_has_S_EducationalCenter \n",
    "\n",
    "df1 = dfFix(ComunalServices,\"Health_Center\",\"Health_Center_details:Capacity\")\n",
    "df1 = df1.isin([\"primary_care\"])\n",
    "S_PrimaryAttention = dfFix(ComunalServices,\"General_Information:Record_your_current_location:Latitude\",\"General_Information:Record_your_current_location:Accuracy\")\n",
    "S_PrimaryAttention = get_valueBySector(df1,S_PrimaryAttention)\n",
    "mkCSV(S_PrimaryAttention,\"S_PrimaryAttention.csv\")\n",
    "\n",
    "df1 = dfFix(ComunalServices,\"Health_Center\",\"Health_Center_details:Capacity\")\n",
    "df1 = df1.isin([\"hospital\"])                                                  #probar con datos\n",
    "df2 = dfFix(ComunalServices,\"General_Information:Record_your_current_location:Latitude\",\"General_Information:Record_your_current_location:Accuracy\")\n",
    "df3 = dfFix(ComunalServices,\"Health_Center_details:Capacity\",\"Associate_infrastructure:Sanitation\")\n",
    "S_Hospital = concatDF(df2,df3)\n",
    "S_Hospital = get_valueBySector(df1,S_Hospital)\n",
    "mkCSV(S_Hospital,\"S_Hospital.csv\")\n",
    "\n",
    "df1 = dfFix(ComunalServices,\"General_Information:Type_of_service\",\"General_Information:Other_service\")\n",
    "df1 = df1.isin([\"cementary\"])\n",
    "df2 = dfFix(ComunalServices,\"General_Information:Record_your_current_location:Latitude\",\"General_Information:Record_your_current_location:Accuracy\")\n",
    "df3 = dfFix(ComunalServices,\"Cementary_Details:Drainage\",\"Education_level\")\n",
    "S_Cementary = concatDF(df2,df3)\n",
    "S_Cementary = get_valueBySector(df1,S_Cementary)\n",
    "mkCSV(S_Cementary,\"S_Cementary.csv\")\n",
    "\n",
    "df1 = dfFix(ComunalServices,\"General_Information:Type_of_service\",\"General_Information:Other_service\") \n",
    "df1 = df1.isin([\"other\"])\n",
    "df2 = dfFix(ComunalServices,\"General_Information:Record_your_current_location:Latitude\",\"General_Information:Record_your_current_location:Accuracy\")\n",
    "df3 = dfFix(ComunalServices,\"General_Information:Other_service\",\"General_Information:Sharing_Services\")\n",
    "S_OtherCenter = concatDF(df2,df3)\n",
    "S_OtherCenter = get_valueBySector(df1,S_OtherCenter)\n",
    "mkCSV(S_OtherCenter,\"S_OtherCenter.csv\")\n",
    "\n",
    "S_BuildingQuality = dfFix(ComunalServices,\"Construction_Details:Appropiate_Roof\",\"meta:instanceID\") \n",
    "S_BuildingQuality = S_BuildingQuality.isin([\"yes\"])\n",
    "mkCSV(S_BuildingQuality,\"S_BuildingQuality.csv\")\n",
    "\n",
    "#%%Service\n",
    "#S_HealthCenterService #información de plano\n",
    "\n",
    "#S_MedicineAcces #No se encuentra el origen del dato\n",
    "\n",
    "S_DataAccess = dfFix(Entities,\"Data_Access\",\"Antenna\")\n",
    "S_DataAccess = separateValues(S_DataAccess)\n",
    "mkCSV(S_DataAccess,\"S_DataAccess.csv\")\n",
    "\n",
    "S_RepeaterAntena = dfFix(Entities,\"Antenna\",\"meta:instanceID\")\n",
    "mkCSV(S_RepeaterAntena,\"S_RepeaterAntena.csv\")\n",
    "\n",
    "S_NoEducationCause = dfFix(Entities,\"Education_Issues\",\"Data_Access\")\n",
    "S_NoEducationCause = separateValues(S_NoEducationCause)\n",
    "mkCSV(S_NoEducationCause,\"S_NoEducationCause.csv\")\n",
    "#%%KnowEledge\n",
    "\n",
    "S_Tecknowlege = [\"Phone Call\",\"Internet\",\"PC\",\"Programming\"]\n",
    "S_Tecknowlege = pd.DataFrame(S_Tecknowlege)\n",
    "mkCSV(S_Tecknowlege,\"S_Tecknowlege.csv\")\n",
    "\n",
    "S_Tecknowlege_has_Community = dfFix(GeneralCitizen,\"TICs_Knowledge:Phone_Call\",\"App_USED\")\n",
    "S_Tecknowlege_has_Community = S_Tecknowlege_has_Community.transpose()\n",
    "mkCSV(S_Tecknowlege_has_Community,\"S_Tecknowlege_has_Community.csv\")\n",
    "\n",
    "S_App = [\"WhatsApp\",\"Facebook\",\"Skype\",\"Instagram\",\"Google\",\"Youtube\",\"Email\",\"Word\",\"Excel\",\"Otra\"]\n",
    "S_App = pd.DataFrame(S_App)\n",
    "mkCSV(S_App,\"S_App.csv\")\n",
    "\n",
    "#S_App_has_Community\n",
    "\n",
    "#%% SHELTER DATA \n",
    "\n",
    "SH_Shelter = dfFix(Entities,\"Shelter:Total_shelter\",\"Shelter:Vulnerable_Area:Vunerable_Area\")\n",
    "mkCSV(SH_Shelter,\"SH_Shelter.csv\")\n",
    "\n",
    "df1 = dfFix(Shelter,\"Location:Latitude\",\"Location:Accuracy\")\n",
    "df2 = dfFix(Shelter,\"Construc_tion_Details:Appropiate_Roof\",\"Construc_tion_Details:Picture_Outside\")\n",
    "df2 = df2.isin([\"yes\"])\n",
    "SH_Building = concatDF(df1,df2)\n",
    "mkCSV(SH_Building,\"SH_Building.csv\")\n",
    "\n",
    "\n",
    "SH_House = dfFix(HouseHold,\"Shelter:No_Rooms\",\"Energy:Access_Y_N_001\")\n",
    "mkCSV(SH_House,\"SH_House.csv\")\n",
    "\n",
    "#%%FOOD SECURITY DATA\n",
    "#%%FOOD\n",
    "\n",
    "FS_Cause = dfFix(Bibliography,\"Cause 1\",\"Affected groups due to food insecurity\")\n",
    "FS_Cause = FS_Cause.transpose()\n",
    "FS_Cause = FS_Cause.dropna(axis = 1)\n",
    "mkCSV(FS_Cause,\"FS_Cause.csv\") #Incompleto falta separar por comunidadades\n",
    "\n",
    "df1 = dfFix(Bibliography,\"Children\",\"Calories of the typical dish\")\n",
    "df1 = df1.isin([\"yes\"])\n",
    "df2 = dfFix(Bibliography,\"Intake (g) - default value 70g-\",\"GENERAL INFORMATION OF REFUGEES SETTLEMENT\")\n",
    "FS_FoodSafety = concatDF(df1,df2)\n",
    "mkCSV(FS_FoodSafety,\"FS_FoodSafety.csv\") #Incompleto falta separar por comunidadades\n",
    "\n",
    "FS_FoodAccess = [\"meat\",\"grain\",\"vegetable\",\"fruit\"]\n",
    "FS_FoodAccess = pd.DataFrame(FS_FoodAccess)\n",
    "mkCSV(FS_FoodAccess,\"FS_FoodAccess.csv\")\n",
    "\n",
    "FS_FoodAccess_has_Community = dfFix(GeneralCitizen,\"Type_Food:Meat\",\"times:One_time\")\n",
    "FS_FoodAccess_has_Community = FS_FoodAccess_has_Community.transpose()\n",
    "mkCSV(FS_FoodAccess_has_Community,\"FS_FoodAccess_has_Community.csv\")\n",
    "\n",
    "df1 = [\"one\",\"two\",\"three\",\"Greater than three\"]\n",
    "df1 = pd.DataFrame(df1)\n",
    "df2 = dfFix(GeneralCitizen,\"times:One_time\",\"main_food:Breakfast\")\n",
    "df2 = df2.transpose()\n",
    "FS_TimesPerDay = get_FSClaveValor(df1,df2)\n",
    "mkCSV(FS_TimesPerDay,\"FS_TimesPerDay.csv\") #probar con datos\n",
    "\n",
    "df1 = [\"Breakfast\",\"lunch\",\"coffe time\",\"dinner\"]\n",
    "df1 = pd.DataFrame(df1)\n",
    "df2 = dfFix(GeneralCitizen,\"main_food:Breakfast\",\"typical_dish:Pork\")\n",
    "df2 = df2.transpose()\n",
    "FS_ImportantMeal = get_FSClaveValor(df1,df2)\n",
    "mkCSV(FS_ImportantMeal,\"FS_ImportantMeal.csv\") #probar con datos\n",
    "\n",
    "df1 = [\"pork\",\"beef\",\"chicken\",\"lamp\",\"cereals\",\"legumes\",\"fruits\"]\n",
    "df1 = pd.DataFrame(df1)\n",
    "df2 = dfFix(Bibliography,\"Pork (200 kcal/100g)\",\"Intake (g) - default value 70g-\")\n",
    "df2 = dropRow(df2,1)\n",
    "FS_TypcalPlate = get_FSClaveValor(df1,df2)\n",
    "mkCSV(FS_TypcalPlate,\"FS_TypcalPlate.csv\")\n",
    "#%%Source\n",
    "\n",
    "df1 = [\"Humanitarian Aid\",\"Crops\",\"Market\"]\n",
    "df1 = pd.DataFrame(df1)\n",
    "df2 = dfFix(GeneralCitizen,\"Main_food_source:Humanitarian_Aid\",\"meta:instanceID\")\n",
    "FS_FoodSource = get_FSClaveValor(df1,df2)\n",
    "mkCSV(FS_FoodSource,\"FS_FoodSource.csv\") #Probar con datos en GeneralCitizen\n",
    "\n",
    "#FS_CultivationSeason #problema PLN\n",
    "\n",
    "#%%Corral and Crop\n",
    "\n",
    "df1 = dfFix(LocalLeaders,\"Food_security:Grazing_technique\",\"Costs:basic_basket\")\n",
    "df2 = dfFix(LocalLeaders,\"Food_security:fertilizers\",\"Food_security:storing_food\")\n",
    "df2 = df2.isin([\"yes\"])\n",
    "FS_CorralCropData = concatDF(df1,df2)\n",
    "mkCSV(FS_CorralCropData,\"FS_CorralCropData.csv\")\n",
    "\n",
    "df1 = dfFix(FarmyardCrop,\"Item\",\"Property\") #probar con datos\n",
    "df1 = df1.isin([\"crop_area\"])                                                  #probar con datos\n",
    "df2 = dfFix(FarmyardCrop,\"Record_your_current_location:Latitude\",\"Record_your_current_location:Accuracy\")\n",
    "df3 = dfFix(FarmyardCrop,\"Property\",\"Drainage\")\n",
    "df4 = dfFix(FarmyardCrop,\"Drainage\",\"Irrigation\")\n",
    "df4 = df4.isin([\"yes\"]) #NaN != no. Revisar\n",
    "FS_CorralUbication = concatDF(df2,concatDF(df3,df4))\n",
    "FS_CorralUbication = get_valueBySector(df1,FS_CorralUbication)\n",
    "mkCSV(FS_CorralUbication,\"FS_CorralUbication.csv\")\n",
    "\n",
    "df1 = dfFix(FarmyardCrop,\"Item\",\"Property\")\n",
    "df1 = df1.isin([\"farmyard\"])\n",
    "df2 = dfFix(FarmyardCrop,\"Record_your_current_location:Latitude\",\"Record_your_current_location:Accuracy\")\n",
    "df3 = dfFix(FarmyardCrop,\"Property\",\"Drainage\")\n",
    "df4 = dfFix(FarmyardCrop,\"Irrigation\",\"Irrigation_details:Water_pump\")\n",
    "df4 = df4.isin([\"yes\"]) #NaN != no. Revisar\n",
    "FS_CropUbication = concatDF(df2,concatDF(df3,df4))\n",
    "FS_CropUbication =get_valueBySector(df1,FS_CropUbication)\n",
    "mkCSV(FS_CropUbication,\"FS_CropUbication.csv\")\n",
    "\n",
    "#%%Continuity\n",
    "\n",
    "FS_FoodAccessContinuity = dfFix(LocalLeaders,\"Food_security:perishable_food\",\"Costs:basic_basket\")\n",
    "mkCSV(FS_FoodAccessContinuity,\"FS_FoodAccessContinuity.csv\")\n",
    "\n",
    "#FS_SelfSufficiencySeason #Problema PLN\n",
    "\n",
    "FS_OwnCultivationFoodType = dfFix(LocalLeaders,\"Food_security:kind_food\",\"Food_security:fertilizers\")\n",
    "FS_OwnCultivationFoodType = separateValues(FS_OwnCultivationFoodType)\n",
    "mkCSV(FS_OwnCultivationFoodType,\"FS_OwnCultivationFoodType.csv\")\n",
    "\n",
    "FS_GrainConservation = dfFix(LocalLeaders,\"Food_security:dry_food\",\"Food_security:perishable_food\")\n",
    "FS_GrainConservation = separateValues(FS_GrainConservation)\n",
    "mkCSV(FS_GrainConservation,\"FS_GrainConservation.csv\")\n",
    "\n",
    "#FS_GrainMill #No existe el dato"
   ]
  },
  {
   "cell_type": "code",
   "execution_count": 33,
   "metadata": {},
   "outputs": [],
   "source": [
    "\n",
    "df1 = dfFix(EnergyINF,\"Ofert:Type_of_water_supply\",\"Ofert:Picture\")\n",
    "df2 = dfFix(EnergyINF,\"Ofert:Power_of_generation\",\"Ofert:Power_of_generation_001\")\n",
    "INF_GenerationSystem = concatDF(df1,df2)\n",
    "#mkCSV(INF_GenerationSystem,\"INF_GenerationSystem.csv\")\n",
    "INF_GenerationSystem = INF_GenerationSystem.dropna(how = 'all')\n",
    "INF_GenerationSystem *= 1\n",
    "INF_GenerationSystem = INF_GenerationSystem.fillna(\"//N\")"
   ]
  },
  {
   "cell_type": "code",
   "execution_count": 34,
   "metadata": {},
   "outputs": [
    {
     "data": {
      "text/html": [
       "<div>\n",
       "<style scoped>\n",
       "    .dataframe tbody tr th:only-of-type {\n",
       "        vertical-align: middle;\n",
       "    }\n",
       "\n",
       "    .dataframe tbody tr th {\n",
       "        vertical-align: top;\n",
       "    }\n",
       "\n",
       "    .dataframe thead th {\n",
       "        text-align: right;\n",
       "    }\n",
       "</style>\n",
       "<table border=\"1\" class=\"dataframe\">\n",
       "  <thead>\n",
       "    <tr style=\"text-align: right;\">\n",
       "      <th></th>\n",
       "      <th>0</th>\n",
       "      <th>1</th>\n",
       "    </tr>\n",
       "  </thead>\n",
       "  <tbody>\n",
       "    <tr>\n",
       "      <th>1</th>\n",
       "      <td>diesel_generat</td>\n",
       "      <td>6</td>\n",
       "    </tr>\n",
       "    <tr>\n",
       "      <th>2</th>\n",
       "      <td>diesel_generat</td>\n",
       "      <td>6</td>\n",
       "    </tr>\n",
       "    <tr>\n",
       "      <th>9</th>\n",
       "      <td>solar_panel</td>\n",
       "      <td>//N</td>\n",
       "    </tr>\n",
       "    <tr>\n",
       "      <th>10</th>\n",
       "      <td>diesel_generat</td>\n",
       "      <td>6</td>\n",
       "    </tr>\n",
       "    <tr>\n",
       "      <th>11</th>\n",
       "      <td>solar_minigrid</td>\n",
       "      <td>//N</td>\n",
       "    </tr>\n",
       "  </tbody>\n",
       "</table>\n",
       "</div>"
      ],
      "text/plain": [
       "                 0    1\n",
       "1   diesel_generat    6\n",
       "2   diesel_generat    6\n",
       "9      solar_panel  //N\n",
       "10  diesel_generat    6\n",
       "11  solar_minigrid  //N"
      ]
     },
     "execution_count": 34,
     "metadata": {},
     "output_type": "execute_result"
    }
   ],
   "source": [
    "INF_GenerationSystem"
   ]
  }
 ],
 "metadata": {
  "kernelspec": {
   "display_name": "Python 3",
   "language": "python",
   "name": "python3"
  },
  "language_info": {
   "codemirror_mode": {
    "name": "ipython",
    "version": 3
   },
   "file_extension": ".py",
   "mimetype": "text/x-python",
   "name": "python",
   "nbconvert_exporter": "python",
   "pygments_lexer": "ipython3",
   "version": "3.7.1"
  }
 },
 "nbformat": 4,
 "nbformat_minor": 2
}
