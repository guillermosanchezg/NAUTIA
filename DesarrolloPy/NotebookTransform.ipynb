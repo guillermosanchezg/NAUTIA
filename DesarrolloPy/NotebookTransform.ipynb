{
 "cells": [
  {
   "cell_type": "code",
   "execution_count": 1,
   "metadata": {},
   "outputs": [
    {
     "name": "stderr",
     "output_type": "stream",
     "text": [
      "[nltk_data] Downloading collection 'popular'\n",
      "[nltk_data]    | \n",
      "[nltk_data]    | Downloading package cmudict to\n",
      "[nltk_data]    |     C:\\Users\\guill\\AppData\\Roaming\\nltk_data...\n",
      "[nltk_data]    |   Package cmudict is already up-to-date!\n",
      "[nltk_data]    | Downloading package gazetteers to\n",
      "[nltk_data]    |     C:\\Users\\guill\\AppData\\Roaming\\nltk_data...\n",
      "[nltk_data]    |   Package gazetteers is already up-to-date!\n",
      "[nltk_data]    | Downloading package genesis to\n",
      "[nltk_data]    |     C:\\Users\\guill\\AppData\\Roaming\\nltk_data...\n",
      "[nltk_data]    |   Package genesis is already up-to-date!\n",
      "[nltk_data]    | Downloading package gutenberg to\n",
      "[nltk_data]    |     C:\\Users\\guill\\AppData\\Roaming\\nltk_data...\n",
      "[nltk_data]    |   Package gutenberg is already up-to-date!\n",
      "[nltk_data]    | Downloading package inaugural to\n",
      "[nltk_data]    |     C:\\Users\\guill\\AppData\\Roaming\\nltk_data...\n",
      "[nltk_data]    |   Package inaugural is already up-to-date!\n",
      "[nltk_data]    | Downloading package movie_reviews to\n",
      "[nltk_data]    |     C:\\Users\\guill\\AppData\\Roaming\\nltk_data...\n",
      "[nltk_data]    |   Package movie_reviews is already up-to-date!\n",
      "[nltk_data]    | Downloading package names to\n",
      "[nltk_data]    |     C:\\Users\\guill\\AppData\\Roaming\\nltk_data...\n",
      "[nltk_data]    |   Package names is already up-to-date!\n",
      "[nltk_data]    | Downloading package shakespeare to\n",
      "[nltk_data]    |     C:\\Users\\guill\\AppData\\Roaming\\nltk_data...\n",
      "[nltk_data]    |   Package shakespeare is already up-to-date!\n",
      "[nltk_data]    | Downloading package stopwords to\n",
      "[nltk_data]    |     C:\\Users\\guill\\AppData\\Roaming\\nltk_data...\n",
      "[nltk_data]    |   Package stopwords is already up-to-date!\n",
      "[nltk_data]    | Downloading package treebank to\n",
      "[nltk_data]    |     C:\\Users\\guill\\AppData\\Roaming\\nltk_data...\n",
      "[nltk_data]    |   Package treebank is already up-to-date!\n",
      "[nltk_data]    | Downloading package twitter_samples to\n",
      "[nltk_data]    |     C:\\Users\\guill\\AppData\\Roaming\\nltk_data...\n",
      "[nltk_data]    |   Package twitter_samples is already up-to-date!\n",
      "[nltk_data]    | Downloading package omw to\n",
      "[nltk_data]    |     C:\\Users\\guill\\AppData\\Roaming\\nltk_data...\n",
      "[nltk_data]    |   Package omw is already up-to-date!\n",
      "[nltk_data]    | Downloading package wordnet to\n",
      "[nltk_data]    |     C:\\Users\\guill\\AppData\\Roaming\\nltk_data...\n",
      "[nltk_data]    |   Package wordnet is already up-to-date!\n",
      "[nltk_data]    | Downloading package wordnet_ic to\n",
      "[nltk_data]    |     C:\\Users\\guill\\AppData\\Roaming\\nltk_data...\n",
      "[nltk_data]    |   Package wordnet_ic is already up-to-date!\n",
      "[nltk_data]    | Downloading package words to\n",
      "[nltk_data]    |     C:\\Users\\guill\\AppData\\Roaming\\nltk_data...\n",
      "[nltk_data]    |   Package words is already up-to-date!\n",
      "[nltk_data]    | Downloading package maxent_ne_chunker to\n",
      "[nltk_data]    |     C:\\Users\\guill\\AppData\\Roaming\\nltk_data...\n",
      "[nltk_data]    |   Package maxent_ne_chunker is already up-to-date!\n",
      "[nltk_data]    | Downloading package punkt to\n",
      "[nltk_data]    |     C:\\Users\\guill\\AppData\\Roaming\\nltk_data...\n",
      "[nltk_data]    |   Package punkt is already up-to-date!\n",
      "[nltk_data]    | Downloading package snowball_data to\n",
      "[nltk_data]    |     C:\\Users\\guill\\AppData\\Roaming\\nltk_data...\n",
      "[nltk_data]    |   Package snowball_data is already up-to-date!\n",
      "[nltk_data]    | Downloading package averaged_perceptron_tagger to\n",
      "[nltk_data]    |     C:\\Users\\guill\\AppData\\Roaming\\nltk_data...\n",
      "[nltk_data]    |   Package averaged_perceptron_tagger is already up-\n",
      "[nltk_data]    |       to-date!\n",
      "[nltk_data]    | \n",
      "[nltk_data]  Done downloading collection popular\n"
     ]
    }
   ],
   "source": [
    "import numpy as np\n",
    "import pandas as pd\n",
    "import os\n",
    "import sklearn\n",
    "from sklearn.feature_extraction.text import CountVectorizer\n",
    "count_vectorizer = CountVectorizer()\n",
    "\n",
    "import nltk\n",
    "nltk.download(\"popular\") # required to download the stopwords lists\n",
    "\n",
    "from nltk.corpus import stopwords\n",
    "\n",
    "spanish_stopwords = stopwords.words('spanish')\n",
    "english_stopwords = stopwords.words('english')\n",
    "count_vectorizer = CountVectorizer(stop_words = spanish_stopwords+english_stopwords)"
   ]
  },
  {
   "cell_type": "code",
   "execution_count": 230,
   "metadata": {},
   "outputs": [],
   "source": [
    "mainpath = \"C:/Users/guill/Documents/Universidad/PlataformaRefugiados/NAUTIA/DesarrolloPy/DataSetOriginales\"\n",
    "\n",
    "def dfFix(df,col1 = False,col2 = False):\n",
    "    result = df.copy()\n",
    "    if(col1):\n",
    "        x = result.columns.get_loc(col1)\n",
    "        result.drop(result.columns[0:x],axis = 1, inplace = True)\n",
    "    if(col2):\n",
    "        y = result.columns.get_loc(col2)\n",
    "        result.drop(result.columns[y:],axis = 1, inplace = True)\n",
    "    return result\n",
    "\n",
    "def concatDF(df1,df2):\n",
    "    return  pd.concat([df1,df2],axis = 1, ignore_index = True, sort = True)\n",
    "\n",
    "def dropRow(df,i):\n",
    "    return df.drop(index = i)\n",
    "\n",
    "def mkCSV(df,fileName):\n",
    "    df.to_csv('DataSetFinales/'+fileName,header = False, index=False) #Header e index a false para no mostrarlo en el csv\n",
    "    \n",
    "def getPath(mainpath,filename):\n",
    "    return os.path.join(mainpath, filename)\n",
    "\n",
    "def fixBibliography(df):\n",
    "    df = dfFix(df,\"GENERAL INFORMATION - COUNTRY LEVEL\")\n",
    "    df.columns = ['GeneralInfo', 'CommunityCountry', 'RefugeeCountry']\n",
    "    df.set_index('GeneralInfo', inplace = True)\n",
    "    df = df.transpose()\n",
    "    df.reset_index(inplace = True)\n",
    "    return df\n",
    "\n",
    "def getSubColumnNames(df,x):\n",
    "    columns = df.columns\n",
    "    array = []\n",
    "    for column in columns:\n",
    "        column = column[x:]\n",
    "        array.append(column)\n",
    "    return pd.DataFrame(array) \n",
    "\n",
    "def addInstitutionAndType(df,array1,array2,instType,index):\n",
    "    refugees = dropRow(df,index)\n",
    "    refugees = refugees.dropna(axis = 1)\n",
    "    refugees = np.array(refugees)\n",
    "    for row in refugees:\n",
    "        for elem in row:\n",
    "            array1 = np.append(array1,elem)\n",
    "            array2 = np.append(array2,instType)\n",
    "    return array1,array2\n",
    "\n",
    "def politicalActor(df1,df2,df3,df4,df5,index):\n",
    "    institution = []\n",
    "    instType = []\n",
    "\n",
    "    institution, instType  = addInstitutionAndType(df1,institution,instType,'Public Institution',index)\n",
    "    institution, instType  = addInstitutionAndType(df2,institution,instType,'Private Institution',index)\n",
    "    institution, instType  = addInstitutionAndType(df3,institution,instType,'NGO',index)\n",
    "    institution, instType  = addInstitutionAndType(df4,institution,instType,'International Agency',index)\n",
    "    institution, instType  = addInstitutionAndType(df5,institution,instType,'Local',index)\n",
    "\n",
    "    institution = pd.DataFrame(institution)\n",
    "    institution = institution.reset_index(drop = True)\n",
    "    instType = pd.DataFrame(instType)\n",
    "    instType = instType.reset_index(drop = True)\n",
    "    \n",
    "    return concatDF(institution,instType)\n",
    "\n",
    "def separateValues(df):\n",
    "    array = np.array(df)\n",
    "    corpus = []\n",
    "    for row in array:\n",
    "        for elem in row:\n",
    "            corpus = np.append(corpus,[elem])\n",
    "    X = count_vectorizer.fit_transform(corpus)\n",
    "    array = count_vectorizer.get_feature_names()\n",
    "    return pd.DataFrame(array)  \n",
    "\n",
    "def getSeason(df):\n",
    "    year = [\"january\",\"february\",\"march\",\"april\",\"may\",\"june\",\"july\",\"august\",\"september\",\"october\",\"november\",\"december\"]\n",
    "    #corpus = [\"january february March april, may\"]\n",
    "    X = count_vectorizer.fit_transform(corpus)\n",
    "    cultivationSeason = count_vectorizer.get_feature_names()\n",
    "    #print(cultivationSeason)\n",
    "    array = np.array([], dtype=bool)\n",
    "    for elem in year:\n",
    "        flag = False\n",
    "        for month in cultivationSeason:\n",
    "            if(elem == month):\n",
    "                flag = True\n",
    "        if(flag):\n",
    "            array = np.append(array, [True])           \n",
    "        else:\n",
    "            array = np.append(array, [False])\n",
    "    return pd.DataFrame(array)\n",
    "\n",
    "def get_claveValor(df1,df2):\n",
    "    array1 = np.array(df2)\n",
    "    array2 = np.array(df1)\n",
    "    result1 = []\n",
    "    result2 = []\n",
    "    i = 0\n",
    "    for row in array1:\n",
    "        var = array2[i]\n",
    "        for elem in row:\n",
    "            result1 = np.append(result1,elem)\n",
    "            result2 = np.append(result2,var)\n",
    "        i+=1\n",
    "    result2 = pd.DataFrame(result2)\n",
    "    result2 = result2.reset_index(drop = True)\n",
    "    result1 = pd.DataFrame(result1)\n",
    "    result1 = result1.reset_index(drop = True)\n",
    "    return concatDF(result2,result1)\n",
    "\n",
    "def get_FSClaveValor(df1,df2):\n",
    "    df2 = df2.transpose()\n",
    "    array = np.array(df2)\n",
    "    array2 =[]\n",
    "    i = 0\n",
    "    for row in array:\n",
    "        for elem in row:\n",
    "            array2 = np.append(array2,elem)\n",
    "        i+=1  \n",
    "    df2 = pd.DataFrame(array2)\n",
    "    \n",
    "    return concatDF(df1,df2)\n",
    "\n",
    "def get_valueBySector(df1,df2):\n",
    "    df2 = df2.reset_index()\n",
    "    array1 = np.array(df1)\n",
    "    i = 0\n",
    "    for row in array1:\n",
    "        for elem in row:\n",
    "            if(elem == False):\n",
    "                df2 = dropRow(df2,i)\n",
    "        i += 1\n",
    "    df2 = df2.set_index('index')\n",
    "    return df2"
   ]
  },
  {
   "cell_type": "code",
   "execution_count": 3,
   "metadata": {},
   "outputs": [],
   "source": [
    "pd.options.display.max_columns = None"
   ]
  },
  {
   "cell_type": "code",
   "execution_count": 71,
   "metadata": {},
   "outputs": [],
   "source": [
    "Bibliography = pd.read_excel(getPath(mainpath,\"Bibliography_120220.xlsx\"))\n",
    "Bibliography = fixBibliography(Bibliography)\n",
    "Entities = pd.read_csv(getPath(mainpath,\"NAUTIA_1_0_Entities_Interview_results.csv\"))\n",
    "LocalLeaders = pd.read_csv(getPath(mainpath,\"NAUTIA_1_0_Local_leaders_v3_results.csv\"))\n",
    "HouseHold = pd.read_csv(getPath(mainpath,\"NAUTIA_1_0_Survey_household_v6_results.csv\"))\n",
    "WomenGroup = pd.read_csv(getPath(mainpath,\"NAUTIA_1_0_Women_Focus_Group2_results.csv\"))\n",
    "SanitationInfra = pd.read_csv(getPath(mainpath,\"NAUTIA_V1_0_Sanitation_Infrastructre_results.csv\"))\n",
    "Priorities = pd.read_csv(getPath(mainpath,\"NAUTIA_1_0_Priorities_v3_results.csv\"))\n",
    "GeneralForm = pd.read_csv(getPath(mainpath,\"NAUTIA_1_0_General_form_v3_results.csv\"))\n",
    "PublicSpace = pd.read_csv(getPath(mainpath,\"NAUTIA_1_0_Public_Space_results.csv\"))\n",
    "WaterInf = pd.read_csv(getPath(mainpath,\"NAUTIA_1_0_Water_Infrastructure_results.csv\"))\n",
    "SanitationInf = pd.read_csv(getPath(mainpath,\"NAUTIA_V1_0_Sanitation_Infrastructre_results.csv\"))\n",
    "WasteManagementInf = pd.read_csv(getPath(mainpath,\"NAUTIA_1_0_Waste_Management_Infrastructure_results.csv\"))\n",
    "EnergyINF = pd.read_csv(getPath(mainpath,\"NAUTIA_1_0_Energy_Infrastructure_results.csv\"))\n",
    "Business = pd.read_csv(getPath(mainpath,\"NAUTIA1_0_Business_surveys_v3_results.csv\"))\n",
    "MobilityINF = pd.read_csv(getPath(mainpath,\"NAUTIA_1_0__Transport_servicesaccess_points_results.csv\")) \n",
    "ComunalServices = pd.read_csv(getPath(mainpath,\"NAUTIA_1_0_Communal_Services_results.csv\"))\n",
    "GeneralCitizen = pd.read_csv(getPath(mainpath,\"NAUTIA_1_0_General_Citizen_Focus_Group_results.csv\"))\n",
    "Shelter = pd.read_csv(getPath(mainpath,\"NAUTIA_1_0_Shelter_results.csv\"))\n",
    "FarmyardCrop = pd.read_csv(getPath(mainpath,\"NAUTIA_1_0_Farmyard_and_Crops_results.csv\"))"
   ]
  },
  {
   "cell_type": "code",
   "execution_count": 238,
   "metadata": {},
   "outputs": [
    {
     "data": {
      "text/html": [
       "<div>\n",
       "<style scoped>\n",
       "    .dataframe tbody tr th:only-of-type {\n",
       "        vertical-align: middle;\n",
       "    }\n",
       "\n",
       "    .dataframe tbody tr th {\n",
       "        vertical-align: top;\n",
       "    }\n",
       "\n",
       "    .dataframe thead th {\n",
       "        text-align: right;\n",
       "    }\n",
       "</style>\n",
       "<table border=\"1\" class=\"dataframe\">\n",
       "  <thead>\n",
       "    <tr style=\"text-align: right;\">\n",
       "      <th></th>\n",
       "      <th>0</th>\n",
       "      <th>1</th>\n",
       "      <th>2</th>\n",
       "      <th>3</th>\n",
       "      <th>4</th>\n",
       "    </tr>\n",
       "    <tr>\n",
       "      <th>index</th>\n",
       "      <th></th>\n",
       "      <th></th>\n",
       "      <th></th>\n",
       "      <th></th>\n",
       "      <th></th>\n",
       "    </tr>\n",
       "  </thead>\n",
       "  <tbody>\n",
       "    <tr>\n",
       "      <th>0</th>\n",
       "      <td>27.495740</td>\n",
       "      <td>-7.823822</td>\n",
       "      <td>521.690430</td>\n",
       "      <td>private__insid</td>\n",
       "      <td>False</td>\n",
       "    </tr>\n",
       "    <tr>\n",
       "      <th>1</th>\n",
       "      <td>27.488802</td>\n",
       "      <td>-7.828352</td>\n",
       "      <td>457.556263</td>\n",
       "      <td>public</td>\n",
       "      <td>False</td>\n",
       "    </tr>\n",
       "    <tr>\n",
       "      <th>2</th>\n",
       "      <td>27.487468</td>\n",
       "      <td>-7.830206</td>\n",
       "      <td>452.842218</td>\n",
       "      <td>public</td>\n",
       "      <td>False</td>\n",
       "    </tr>\n",
       "    <tr>\n",
       "      <th>3</th>\n",
       "      <td>27.495528</td>\n",
       "      <td>-7.823089</td>\n",
       "      <td>462.861317</td>\n",
       "      <td>private__insid</td>\n",
       "      <td>False</td>\n",
       "    </tr>\n",
       "    <tr>\n",
       "      <th>5</th>\n",
       "      <td>27.499611</td>\n",
       "      <td>-7.824611</td>\n",
       "      <td>468.409302</td>\n",
       "      <td>public</td>\n",
       "      <td>False</td>\n",
       "    </tr>\n",
       "    <tr>\n",
       "      <th>7</th>\n",
       "      <td>27.497384</td>\n",
       "      <td>-7.833210</td>\n",
       "      <td>466.942444</td>\n",
       "      <td>private__insid</td>\n",
       "      <td>False</td>\n",
       "    </tr>\n",
       "    <tr>\n",
       "      <th>8</th>\n",
       "      <td>27.497743</td>\n",
       "      <td>-7.833182</td>\n",
       "      <td>461.898041</td>\n",
       "      <td>private__insid</td>\n",
       "      <td>False</td>\n",
       "    </tr>\n",
       "    <tr>\n",
       "      <th>10</th>\n",
       "      <td>27.491189</td>\n",
       "      <td>-7.825525</td>\n",
       "      <td>451.051514</td>\n",
       "      <td>private__insid</td>\n",
       "      <td>False</td>\n",
       "    </tr>\n",
       "  </tbody>\n",
       "</table>\n",
       "</div>"
      ],
      "text/plain": [
       "               0         1           2               3      4\n",
       "index                                                        \n",
       "0      27.495740 -7.823822  521.690430  private__insid  False\n",
       "1      27.488802 -7.828352  457.556263          public  False\n",
       "2      27.487468 -7.830206  452.842218          public  False\n",
       "3      27.495528 -7.823089  462.861317  private__insid  False\n",
       "5      27.499611 -7.824611  468.409302          public  False\n",
       "7      27.497384 -7.833210  466.942444  private__insid  False\n",
       "8      27.497743 -7.833182  461.898041  private__insid  False\n",
       "10     27.491189 -7.825525  451.051514  private__insid  False"
      ]
     },
     "execution_count": 238,
     "metadata": {},
     "output_type": "execute_result"
    }
   ],
   "source": [
    "FS_CropUbication"
   ]
  },
  {
   "cell_type": "code",
   "execution_count": 236,
   "metadata": {},
   "outputs": [
    {
     "data": {
      "text/html": [
       "<div>\n",
       "<style scoped>\n",
       "    .dataframe tbody tr th:only-of-type {\n",
       "        vertical-align: middle;\n",
       "    }\n",
       "\n",
       "    .dataframe tbody tr th {\n",
       "        vertical-align: top;\n",
       "    }\n",
       "\n",
       "    .dataframe thead th {\n",
       "        text-align: right;\n",
       "    }\n",
       "</style>\n",
       "<table border=\"1\" class=\"dataframe\">\n",
       "  <thead>\n",
       "    <tr style=\"text-align: right;\">\n",
       "      <th></th>\n",
       "      <th>0</th>\n",
       "      <th>1</th>\n",
       "      <th>2</th>\n",
       "      <th>3</th>\n",
       "      <th>4</th>\n",
       "    </tr>\n",
       "  </thead>\n",
       "  <tbody>\n",
       "    <tr>\n",
       "      <th>0</th>\n",
       "      <td>27.495740</td>\n",
       "      <td>-7.823822</td>\n",
       "      <td>521.690430</td>\n",
       "      <td>private__insid</td>\n",
       "      <td>False</td>\n",
       "    </tr>\n",
       "    <tr>\n",
       "      <th>1</th>\n",
       "      <td>27.488802</td>\n",
       "      <td>-7.828352</td>\n",
       "      <td>457.556263</td>\n",
       "      <td>public</td>\n",
       "      <td>False</td>\n",
       "    </tr>\n",
       "    <tr>\n",
       "      <th>2</th>\n",
       "      <td>27.487468</td>\n",
       "      <td>-7.830206</td>\n",
       "      <td>452.842218</td>\n",
       "      <td>public</td>\n",
       "      <td>False</td>\n",
       "    </tr>\n",
       "    <tr>\n",
       "      <th>3</th>\n",
       "      <td>27.495528</td>\n",
       "      <td>-7.823089</td>\n",
       "      <td>462.861317</td>\n",
       "      <td>private__insid</td>\n",
       "      <td>False</td>\n",
       "    </tr>\n",
       "    <tr>\n",
       "      <th>5</th>\n",
       "      <td>27.499611</td>\n",
       "      <td>-7.824611</td>\n",
       "      <td>468.409302</td>\n",
       "      <td>public</td>\n",
       "      <td>False</td>\n",
       "    </tr>\n",
       "    <tr>\n",
       "      <th>7</th>\n",
       "      <td>27.497384</td>\n",
       "      <td>-7.833210</td>\n",
       "      <td>466.942444</td>\n",
       "      <td>private__insid</td>\n",
       "      <td>False</td>\n",
       "    </tr>\n",
       "    <tr>\n",
       "      <th>8</th>\n",
       "      <td>27.497743</td>\n",
       "      <td>-7.833182</td>\n",
       "      <td>461.898041</td>\n",
       "      <td>private__insid</td>\n",
       "      <td>False</td>\n",
       "    </tr>\n",
       "    <tr>\n",
       "      <th>10</th>\n",
       "      <td>27.491189</td>\n",
       "      <td>-7.825525</td>\n",
       "      <td>451.051514</td>\n",
       "      <td>private__insid</td>\n",
       "      <td>False</td>\n",
       "    </tr>\n",
       "  </tbody>\n",
       "</table>\n",
       "</div>"
      ],
      "text/plain": [
       "            0         1           2               3      4\n",
       "0   27.495740 -7.823822  521.690430  private__insid  False\n",
       "1   27.488802 -7.828352  457.556263          public  False\n",
       "2   27.487468 -7.830206  452.842218          public  False\n",
       "3   27.495528 -7.823089  462.861317  private__insid  False\n",
       "5   27.499611 -7.824611  468.409302          public  False\n",
       "7   27.497384 -7.833210  466.942444  private__insid  False\n",
       "8   27.497743 -7.833182  461.898041  private__insid  False\n",
       "10  27.491189 -7.825525  451.051514  private__insid  False"
      ]
     },
     "execution_count": 236,
     "metadata": {},
     "output_type": "execute_result"
    }
   ],
   "source": [
    "FS_CropUbication"
   ]
  },
  {
   "cell_type": "code",
   "execution_count": 187,
   "metadata": {},
   "outputs": [
    {
     "data": {
      "text/html": [
       "<div>\n",
       "<style scoped>\n",
       "    .dataframe tbody tr th:only-of-type {\n",
       "        vertical-align: middle;\n",
       "    }\n",
       "\n",
       "    .dataframe tbody tr th {\n",
       "        vertical-align: top;\n",
       "    }\n",
       "\n",
       "    .dataframe thead th {\n",
       "        text-align: right;\n",
       "    }\n",
       "</style>\n",
       "<table border=\"1\" class=\"dataframe\">\n",
       "  <thead>\n",
       "    <tr style=\"text-align: right;\">\n",
       "      <th></th>\n",
       "      <th>0</th>\n",
       "      <th>1</th>\n",
       "      <th>2</th>\n",
       "      <th>3</th>\n",
       "      <th>4</th>\n",
       "    </tr>\n",
       "  </thead>\n",
       "  <tbody>\n",
       "    <tr>\n",
       "      <th>4</th>\n",
       "      <td>27.497749</td>\n",
       "      <td>-7.828585</td>\n",
       "      <td>463.286560</td>\n",
       "      <td>public</td>\n",
       "      <td>False</td>\n",
       "    </tr>\n",
       "    <tr>\n",
       "      <th>6</th>\n",
       "      <td>27.486246</td>\n",
       "      <td>-7.823924</td>\n",
       "      <td>457.145956</td>\n",
       "      <td>private__insid</td>\n",
       "      <td>False</td>\n",
       "    </tr>\n",
       "    <tr>\n",
       "      <th>9</th>\n",
       "      <td>27.494720</td>\n",
       "      <td>-7.828418</td>\n",
       "      <td>455.605743</td>\n",
       "      <td>public</td>\n",
       "      <td>False</td>\n",
       "    </tr>\n",
       "  </tbody>\n",
       "</table>\n",
       "</div>"
      ],
      "text/plain": [
       "           0         1           2               3      4\n",
       "4  27.497749 -7.828585  463.286560          public  False\n",
       "6  27.486246 -7.823924  457.145956  private__insid  False\n",
       "9  27.494720 -7.828418  455.605743          public  False"
      ]
     },
     "execution_count": 187,
     "metadata": {},
     "output_type": "execute_result"
    }
   ],
   "source": [
    "FS_CorralUbication"
   ]
  },
  {
   "cell_type": "code",
   "execution_count": 83,
   "metadata": {
    "scrolled": false
   },
   "outputs": [
    {
     "data": {
      "text/plain": [
       "(2, 192)"
      ]
     },
     "execution_count": 83,
     "metadata": {},
     "output_type": "execute_result"
    }
   ],
   "source": [
    "Bibliography.shape"
   ]
  },
  {
   "cell_type": "code",
   "execution_count": 7,
   "metadata": {},
   "outputs": [
    {
     "data": {
      "text/plain": [
       "(0, 72)"
      ]
     },
     "execution_count": 7,
     "metadata": {},
     "output_type": "execute_result"
    }
   ],
   "source": [
    "Entities.shape"
   ]
  },
  {
   "cell_type": "code",
   "execution_count": 8,
   "metadata": {
    "scrolled": true
   },
   "outputs": [
    {
     "data": {
      "text/plain": [
       "(0, 22)"
      ]
     },
     "execution_count": 8,
     "metadata": {},
     "output_type": "execute_result"
    }
   ],
   "source": [
    "LocalLeaders.shape"
   ]
  },
  {
   "cell_type": "code",
   "execution_count": 9,
   "metadata": {},
   "outputs": [
    {
     "data": {
      "text/plain": [
       "(1, 42)"
      ]
     },
     "execution_count": 9,
     "metadata": {},
     "output_type": "execute_result"
    }
   ],
   "source": [
    "HouseHold.shape"
   ]
  },
  {
   "cell_type": "code",
   "execution_count": 137,
   "metadata": {},
   "outputs": [
    {
     "data": {
      "text/plain": [
       "(0, 27)"
      ]
     },
     "execution_count": 137,
     "metadata": {},
     "output_type": "execute_result"
    }
   ],
   "source": [
    "WomenGroup.shape"
   ]
  },
  {
   "cell_type": "code",
   "execution_count": 11,
   "metadata": {},
   "outputs": [
    {
     "data": {
      "text/plain": [
       "(3, 14)"
      ]
     },
     "execution_count": 11,
     "metadata": {},
     "output_type": "execute_result"
    }
   ],
   "source": [
    "SanitationInfra.shape"
   ]
  },
  {
   "cell_type": "code",
   "execution_count": 12,
   "metadata": {
    "scrolled": true
   },
   "outputs": [
    {
     "data": {
      "text/plain": [
       "(1, 88)"
      ]
     },
     "execution_count": 12,
     "metadata": {},
     "output_type": "execute_result"
    }
   ],
   "source": [
    "Priorities.shape"
   ]
  },
  {
   "cell_type": "code",
   "execution_count": 13,
   "metadata": {},
   "outputs": [
    {
     "data": {
      "text/plain": [
       "(0, 19)"
      ]
     },
     "execution_count": 13,
     "metadata": {},
     "output_type": "execute_result"
    }
   ],
   "source": [
    "GeneralForm.shape"
   ]
  },
  {
   "cell_type": "code",
   "execution_count": 14,
   "metadata": {},
   "outputs": [
    {
     "data": {
      "text/plain": [
       "(0, 13)"
      ]
     },
     "execution_count": 14,
     "metadata": {},
     "output_type": "execute_result"
    }
   ],
   "source": [
    "PublicSpace.shape"
   ]
  },
  {
   "cell_type": "code",
   "execution_count": 15,
   "metadata": {},
   "outputs": [
    {
     "data": {
      "text/plain": [
       "(0, 12)"
      ]
     },
     "execution_count": 15,
     "metadata": {},
     "output_type": "execute_result"
    }
   ],
   "source": [
    "WaterInf.shape"
   ]
  },
  {
   "cell_type": "code",
   "execution_count": 16,
   "metadata": {},
   "outputs": [
    {
     "data": {
      "text/plain": [
       "(3, 14)"
      ]
     },
     "execution_count": 16,
     "metadata": {},
     "output_type": "execute_result"
    }
   ],
   "source": [
    "SanitationInf.shape"
   ]
  },
  {
   "cell_type": "code",
   "execution_count": 17,
   "metadata": {},
   "outputs": [
    {
     "data": {
      "text/plain": [
       "(0, 10)"
      ]
     },
     "execution_count": 17,
     "metadata": {},
     "output_type": "execute_result"
    }
   ],
   "source": [
    "WasteManagementInf.shape"
   ]
  },
  {
   "cell_type": "code",
   "execution_count": 18,
   "metadata": {},
   "outputs": [
    {
     "data": {
      "text/plain": [
       "(1, 38)"
      ]
     },
     "execution_count": 18,
     "metadata": {},
     "output_type": "execute_result"
    }
   ],
   "source": [
    "EnergyINF.shape"
   ]
  },
  {
   "cell_type": "code",
   "execution_count": 19,
   "metadata": {},
   "outputs": [
    {
     "data": {
      "text/plain": [
       "(12, 25)"
      ]
     },
     "execution_count": 19,
     "metadata": {},
     "output_type": "execute_result"
    }
   ],
   "source": [
    "Business.shape"
   ]
  },
  {
   "cell_type": "code",
   "execution_count": 20,
   "metadata": {},
   "outputs": [
    {
     "data": {
      "text/plain": [
       "(1, 10)"
      ]
     },
     "execution_count": 20,
     "metadata": {},
     "output_type": "execute_result"
    }
   ],
   "source": [
    "MobilityINF.shape"
   ]
  },
  {
   "cell_type": "code",
   "execution_count": 165,
   "metadata": {},
   "outputs": [
    {
     "data": {
      "text/html": [
       "<div>\n",
       "<style scoped>\n",
       "    .dataframe tbody tr th:only-of-type {\n",
       "        vertical-align: middle;\n",
       "    }\n",
       "\n",
       "    .dataframe tbody tr th {\n",
       "        vertical-align: top;\n",
       "    }\n",
       "\n",
       "    .dataframe thead th {\n",
       "        text-align: right;\n",
       "    }\n",
       "</style>\n",
       "<table border=\"1\" class=\"dataframe\">\n",
       "  <thead>\n",
       "    <tr style=\"text-align: right;\">\n",
       "      <th></th>\n",
       "      <th>start</th>\n",
       "      <th>end</th>\n",
       "      <th>General_Information:Type_of_setlement</th>\n",
       "      <th>General_Information:Type_of_Host_Community</th>\n",
       "      <th>General_Information:Record_your_current_location:Latitude</th>\n",
       "      <th>General_Information:Record_your_current_location:Longitude</th>\n",
       "      <th>General_Information:Record_your_current_location:Altitude</th>\n",
       "      <th>General_Information:Record_your_current_location:Accuracy</th>\n",
       "      <th>General_Information:Type_of_service</th>\n",
       "      <th>General_Information:Other_service</th>\n",
       "      <th>General_Information:Name</th>\n",
       "      <th>General_Information:Sharing_Services</th>\n",
       "      <th>Grain_Mill_Details:Available</th>\n",
       "      <th>Grain_Mill_Details:Type</th>\n",
       "      <th>Grain_Mill_Details:Engine</th>\n",
       "      <th>Grain_Mill_Details:Adecuate_Construction</th>\n",
       "      <th>Cementary_Details:Drainage</th>\n",
       "      <th>Cementary_Details:Height</th>\n",
       "      <th>Education_level</th>\n",
       "      <th>education_details:Student</th>\n",
       "      <th>education_details:Workers</th>\n",
       "      <th>education_details:Teachers</th>\n",
       "      <th>education_details:Materials</th>\n",
       "      <th>education_details:Subjects</th>\n",
       "      <th>education_details:Subjects_001</th>\n",
       "      <th>education_details:Subject_needed</th>\n",
       "      <th>education_details:Start_001</th>\n",
       "      <th>education_details:Finish</th>\n",
       "      <th>Health_Center</th>\n",
       "      <th>Health_Center_details:Capacity</th>\n",
       "      <th>Associate_infrastructure:Sanitation</th>\n",
       "      <th>Associate_infrastructure:Important_Note</th>\n",
       "      <th>Associate_infrastructure:Water</th>\n",
       "      <th>Associate_infrastructure:Important_Note_001</th>\n",
       "      <th>Associate_infrastructure:Energy</th>\n",
       "      <th>Energy_Details:Energy_Source</th>\n",
       "      <th>Energy_Details:Type_of_water_supply</th>\n",
       "      <th>Energy_Details:Generator_Type</th>\n",
       "      <th>Energy_Details:Electrical_Details</th>\n",
       "      <th>Energy_Details:Electrical_Appliances:Devices</th>\n",
       "      <th>Energy_Details:Electrical_Appliances:Lantern_details:Amount</th>\n",
       "      <th>Energy_Details:Electrical_Appliances:Lantern_details:Power</th>\n",
       "      <th>Energy_Details:Electrical_Appliances:Lamp:Amount_001</th>\n",
       "      <th>Energy_Details:Electrical_Appliances:Lamp:Power_001</th>\n",
       "      <th>Energy_Details:Electrical_Appliances:Radio:Amount_002</th>\n",
       "      <th>Energy_Details:Electrical_Appliances:Radio:Power_002</th>\n",
       "      <th>Energy_Details:Electrical_Appliances:TV_or_DVD:Amount_003</th>\n",
       "      <th>Energy_Details:Electrical_Appliances:TV_or_DVD:Power_003</th>\n",
       "      <th>Energy_Details:Electrical_Appliances:PC_or_Tablet:Amount_004</th>\n",
       "      <th>Energy_Details:Electrical_Appliances:PC_or_Tablet:Power_004</th>\n",
       "      <th>Energy_Details:Electrical_Appliances:Mobile_Details:Amount_005</th>\n",
       "      <th>Energy_Details:Electrical_Appliances:Mobile_Details:Power_005</th>\n",
       "      <th>Energy_Details:Electrical_Appliances:Electronic_Cooker:Amount_006</th>\n",
       "      <th>Energy_Details:Electrical_Appliances:Electronic_Cooker:Power_006</th>\n",
       "      <th>Energy_Details:Electrical_Appliances:Fridge_Details:Amount_007</th>\n",
       "      <th>Energy_Details:Electrical_Appliances:Fridge_Details:Power_007</th>\n",
       "      <th>Energy_Details:Electrical_Appliances:Other_Details:Amount_008</th>\n",
       "      <th>Energy_Details:Electrical_Appliances:Other_Details:Power_008</th>\n",
       "      <th>Construction_Details:Appropiate_Roof</th>\n",
       "      <th>Construction_Details:Structural_Security</th>\n",
       "      <th>Construction_Details:Resilient</th>\n",
       "      <th>Construction_Details:Thermal_Confort</th>\n",
       "      <th>meta:instanceID</th>\n",
       "    </tr>\n",
       "  </thead>\n",
       "  <tbody>\n",
       "    <tr>\n",
       "      <th>0</th>\n",
       "      <td>2019-11-18 10:45:24.364</td>\n",
       "      <td>2019-11-18 18:46:50.261</td>\n",
       "      <td>refugee_camp</td>\n",
       "      <td>NaN</td>\n",
       "      <td>NaN</td>\n",
       "      <td>NaN</td>\n",
       "      <td>NaN</td>\n",
       "      <td>NaN</td>\n",
       "      <td>educational_center</td>\n",
       "      <td>NaN</td>\n",
       "      <td>Anda Mohamed</td>\n",
       "      <td>Refugees</td>\n",
       "      <td>NaN</td>\n",
       "      <td>NaN</td>\n",
       "      <td>NaN</td>\n",
       "      <td>NaN</td>\n",
       "      <td>NaN</td>\n",
       "      <td>NaN</td>\n",
       "      <td>secundary</td>\n",
       "      <td>985.0</td>\n",
       "      <td>16.0</td>\n",
       "      <td>33.0</td>\n",
       "      <td>books__noteboo_2</td>\n",
       "      <td>mathematic natural_scienc social_science geogr...</td>\n",
       "      <td>NaN</td>\n",
       "      <td>Música</td>\n",
       "      <td>08:00:00</td>\n",
       "      <td>13:45:00</td>\n",
       "      <td>NaN</td>\n",
       "      <td>NaN</td>\n",
       "      <td>yes</td>\n",
       "      <td>NaN</td>\n",
       "      <td>yes</td>\n",
       "      <td>NaN</td>\n",
       "      <td>yes</td>\n",
       "      <td>electrical_gri</td>\n",
       "      <td>no</td>\n",
       "      <td>NaN</td>\n",
       "      <td>yes</td>\n",
       "      <td>lamp pc_or_tablet other</td>\n",
       "      <td>NaN</td>\n",
       "      <td>NaN</td>\n",
       "      <td>64.0</td>\n",
       "      <td>50.0</td>\n",
       "      <td>NaN</td>\n",
       "      <td>NaN</td>\n",
       "      <td>NaN</td>\n",
       "      <td>NaN</td>\n",
       "      <td>20.0</td>\n",
       "      <td>350.0</td>\n",
       "      <td>NaN</td>\n",
       "      <td>NaN</td>\n",
       "      <td>NaN</td>\n",
       "      <td>NaN</td>\n",
       "      <td>NaN</td>\n",
       "      <td>NaN</td>\n",
       "      <td>4.0</td>\n",
       "      <td>2000.0</td>\n",
       "      <td>yes</td>\n",
       "      <td>yes</td>\n",
       "      <td>no</td>\n",
       "      <td>yes</td>\n",
       "      <td>uuid:63fdce5a-8df6-4980-8c42-f02a00350a87</td>\n",
       "    </tr>\n",
       "    <tr>\n",
       "      <th>1</th>\n",
       "      <td>2019-11-17 21:48:18.876</td>\n",
       "      <td>2019-11-18 18:52:07.268</td>\n",
       "      <td>refugee_camp</td>\n",
       "      <td>NaN</td>\n",
       "      <td>NaN</td>\n",
       "      <td>NaN</td>\n",
       "      <td>NaN</td>\n",
       "      <td>NaN</td>\n",
       "      <td>educational_center</td>\n",
       "      <td>NaN</td>\n",
       "      <td>Ali Mabrik Buzia</td>\n",
       "      <td>Refugees</td>\n",
       "      <td>NaN</td>\n",
       "      <td>NaN</td>\n",
       "      <td>NaN</td>\n",
       "      <td>NaN</td>\n",
       "      <td>NaN</td>\n",
       "      <td>NaN</td>\n",
       "      <td>nursery</td>\n",
       "      <td>338.0</td>\n",
       "      <td>4.0</td>\n",
       "      <td>15.0</td>\n",
       "      <td>notebook_and_p</td>\n",
       "      <td>NaN</td>\n",
       "      <td>NaN</td>\n",
       "      <td>NaN</td>\n",
       "      <td>08:00:00</td>\n",
       "      <td>12:00:00</td>\n",
       "      <td>NaN</td>\n",
       "      <td>NaN</td>\n",
       "      <td>yes</td>\n",
       "      <td>NaN</td>\n",
       "      <td>yes</td>\n",
       "      <td>NaN</td>\n",
       "      <td>yes</td>\n",
       "      <td>electrical_gri</td>\n",
       "      <td>no</td>\n",
       "      <td>NaN</td>\n",
       "      <td>yes</td>\n",
       "      <td>lamp</td>\n",
       "      <td>NaN</td>\n",
       "      <td>NaN</td>\n",
       "      <td>16.0</td>\n",
       "      <td>50.0</td>\n",
       "      <td>NaN</td>\n",
       "      <td>NaN</td>\n",
       "      <td>NaN</td>\n",
       "      <td>NaN</td>\n",
       "      <td>NaN</td>\n",
       "      <td>NaN</td>\n",
       "      <td>NaN</td>\n",
       "      <td>NaN</td>\n",
       "      <td>NaN</td>\n",
       "      <td>NaN</td>\n",
       "      <td>NaN</td>\n",
       "      <td>NaN</td>\n",
       "      <td>NaN</td>\n",
       "      <td>NaN</td>\n",
       "      <td>yes</td>\n",
       "      <td>yes</td>\n",
       "      <td>no</td>\n",
       "      <td>yes</td>\n",
       "      <td>uuid:dd6626d6-4f00-4971-b8d1-060cd8bf78e2</td>\n",
       "    </tr>\n",
       "  </tbody>\n",
       "</table>\n",
       "</div>"
      ],
      "text/plain": [
       "                     start                      end  \\\n",
       "0  2019-11-18 10:45:24.364  2019-11-18 18:46:50.261   \n",
       "1  2019-11-17 21:48:18.876  2019-11-18 18:52:07.268   \n",
       "\n",
       "  General_Information:Type_of_setlement  \\\n",
       "0                          refugee_camp   \n",
       "1                          refugee_camp   \n",
       "\n",
       "   General_Information:Type_of_Host_Community  \\\n",
       "0                                         NaN   \n",
       "1                                         NaN   \n",
       "\n",
       "   General_Information:Record_your_current_location:Latitude  \\\n",
       "0                                                NaN           \n",
       "1                                                NaN           \n",
       "\n",
       "   General_Information:Record_your_current_location:Longitude  \\\n",
       "0                                                NaN            \n",
       "1                                                NaN            \n",
       "\n",
       "   General_Information:Record_your_current_location:Altitude  \\\n",
       "0                                                NaN           \n",
       "1                                                NaN           \n",
       "\n",
       "   General_Information:Record_your_current_location:Accuracy  \\\n",
       "0                                                NaN           \n",
       "1                                                NaN           \n",
       "\n",
       "  General_Information:Type_of_service General_Information:Other_service  \\\n",
       "0                  educational_center                               NaN   \n",
       "1                  educational_center                               NaN   \n",
       "\n",
       "  General_Information:Name General_Information:Sharing_Services  \\\n",
       "0             Anda Mohamed                             Refugees   \n",
       "1         Ali Mabrik Buzia                             Refugees   \n",
       "\n",
       "  Grain_Mill_Details:Available Grain_Mill_Details:Type  \\\n",
       "0                          NaN                     NaN   \n",
       "1                          NaN                     NaN   \n",
       "\n",
       "   Grain_Mill_Details:Engine Grain_Mill_Details:Adecuate_Construction  \\\n",
       "0                        NaN                                      NaN   \n",
       "1                        NaN                                      NaN   \n",
       "\n",
       "   Cementary_Details:Drainage  Cementary_Details:Height Education_level  \\\n",
       "0                         NaN                       NaN       secundary   \n",
       "1                         NaN                       NaN         nursery   \n",
       "\n",
       "   education_details:Student  education_details:Workers  \\\n",
       "0                      985.0                       16.0   \n",
       "1                      338.0                        4.0   \n",
       "\n",
       "   education_details:Teachers education_details:Materials  \\\n",
       "0                        33.0            books__noteboo_2   \n",
       "1                        15.0              notebook_and_p   \n",
       "\n",
       "                          education_details:Subjects  \\\n",
       "0  mathematic natural_scienc social_science geogr...   \n",
       "1                                                NaN   \n",
       "\n",
       "  education_details:Subjects_001 education_details:Subject_needed  \\\n",
       "0                            NaN                           Música   \n",
       "1                            NaN                              NaN   \n",
       "\n",
       "  education_details:Start_001 education_details:Finish Health_Center  \\\n",
       "0                    08:00:00                 13:45:00           NaN   \n",
       "1                    08:00:00                 12:00:00           NaN   \n",
       "\n",
       "   Health_Center_details:Capacity Associate_infrastructure:Sanitation  \\\n",
       "0                             NaN                                 yes   \n",
       "1                             NaN                                 yes   \n",
       "\n",
       "   Associate_infrastructure:Important_Note Associate_infrastructure:Water  \\\n",
       "0                                      NaN                            yes   \n",
       "1                                      NaN                            yes   \n",
       "\n",
       "   Associate_infrastructure:Important_Note_001  \\\n",
       "0                                          NaN   \n",
       "1                                          NaN   \n",
       "\n",
       "  Associate_infrastructure:Energy Energy_Details:Energy_Source  \\\n",
       "0                             yes               electrical_gri   \n",
       "1                             yes               electrical_gri   \n",
       "\n",
       "  Energy_Details:Type_of_water_supply Energy_Details:Generator_Type  \\\n",
       "0                                  no                           NaN   \n",
       "1                                  no                           NaN   \n",
       "\n",
       "  Energy_Details:Electrical_Details  \\\n",
       "0                               yes   \n",
       "1                               yes   \n",
       "\n",
       "  Energy_Details:Electrical_Appliances:Devices  \\\n",
       "0                      lamp pc_or_tablet other   \n",
       "1                                         lamp   \n",
       "\n",
       "   Energy_Details:Electrical_Appliances:Lantern_details:Amount  \\\n",
       "0                                                NaN             \n",
       "1                                                NaN             \n",
       "\n",
       "   Energy_Details:Electrical_Appliances:Lantern_details:Power  \\\n",
       "0                                                NaN            \n",
       "1                                                NaN            \n",
       "\n",
       "   Energy_Details:Electrical_Appliances:Lamp:Amount_001  \\\n",
       "0                                               64.0      \n",
       "1                                               16.0      \n",
       "\n",
       "   Energy_Details:Electrical_Appliances:Lamp:Power_001  \\\n",
       "0                                               50.0     \n",
       "1                                               50.0     \n",
       "\n",
       "   Energy_Details:Electrical_Appliances:Radio:Amount_002  \\\n",
       "0                                                NaN       \n",
       "1                                                NaN       \n",
       "\n",
       "   Energy_Details:Electrical_Appliances:Radio:Power_002  \\\n",
       "0                                                NaN      \n",
       "1                                                NaN      \n",
       "\n",
       "   Energy_Details:Electrical_Appliances:TV_or_DVD:Amount_003  \\\n",
       "0                                                NaN           \n",
       "1                                                NaN           \n",
       "\n",
       "   Energy_Details:Electrical_Appliances:TV_or_DVD:Power_003  \\\n",
       "0                                                NaN          \n",
       "1                                                NaN          \n",
       "\n",
       "   Energy_Details:Electrical_Appliances:PC_or_Tablet:Amount_004  \\\n",
       "0                                               20.0              \n",
       "1                                                NaN              \n",
       "\n",
       "   Energy_Details:Electrical_Appliances:PC_or_Tablet:Power_004  \\\n",
       "0                                              350.0             \n",
       "1                                                NaN             \n",
       "\n",
       "   Energy_Details:Electrical_Appliances:Mobile_Details:Amount_005  \\\n",
       "0                                                NaN                \n",
       "1                                                NaN                \n",
       "\n",
       "   Energy_Details:Electrical_Appliances:Mobile_Details:Power_005  \\\n",
       "0                                                NaN               \n",
       "1                                                NaN               \n",
       "\n",
       "   Energy_Details:Electrical_Appliances:Electronic_Cooker:Amount_006  \\\n",
       "0                                                NaN                   \n",
       "1                                                NaN                   \n",
       "\n",
       "   Energy_Details:Electrical_Appliances:Electronic_Cooker:Power_006  \\\n",
       "0                                                NaN                  \n",
       "1                                                NaN                  \n",
       "\n",
       "   Energy_Details:Electrical_Appliances:Fridge_Details:Amount_007  \\\n",
       "0                                                NaN                \n",
       "1                                                NaN                \n",
       "\n",
       "   Energy_Details:Electrical_Appliances:Fridge_Details:Power_007  \\\n",
       "0                                                NaN               \n",
       "1                                                NaN               \n",
       "\n",
       "   Energy_Details:Electrical_Appliances:Other_Details:Amount_008  \\\n",
       "0                                                4.0               \n",
       "1                                                NaN               \n",
       "\n",
       "   Energy_Details:Electrical_Appliances:Other_Details:Power_008  \\\n",
       "0                                             2000.0              \n",
       "1                                                NaN              \n",
       "\n",
       "  Construction_Details:Appropiate_Roof  \\\n",
       "0                                  yes   \n",
       "1                                  yes   \n",
       "\n",
       "  Construction_Details:Structural_Security Construction_Details:Resilient  \\\n",
       "0                                      yes                             no   \n",
       "1                                      yes                             no   \n",
       "\n",
       "  Construction_Details:Thermal_Confort  \\\n",
       "0                                  yes   \n",
       "1                                  yes   \n",
       "\n",
       "                             meta:instanceID  \n",
       "0  uuid:63fdce5a-8df6-4980-8c42-f02a00350a87  \n",
       "1  uuid:dd6626d6-4f00-4971-b8d1-060cd8bf78e2  "
      ]
     },
     "execution_count": 165,
     "metadata": {},
     "output_type": "execute_result"
    }
   ],
   "source": [
    "ComunalServices.head(2)"
   ]
  },
  {
   "cell_type": "code",
   "execution_count": 148,
   "metadata": {},
   "outputs": [
    {
     "data": {
      "text/plain": [
       "(0, 40)"
      ]
     },
     "execution_count": 148,
     "metadata": {},
     "output_type": "execute_result"
    }
   ],
   "source": [
    "GeneralCitizen.shape"
   ]
  },
  {
   "cell_type": "code",
   "execution_count": 23,
   "metadata": {
    "scrolled": true
   },
   "outputs": [
    {
     "data": {
      "text/plain": [
       "(20, 27)"
      ]
     },
     "execution_count": 23,
     "metadata": {},
     "output_type": "execute_result"
    }
   ],
   "source": [
    "Shelter.shape"
   ]
  },
  {
   "cell_type": "code",
   "execution_count": 24,
   "metadata": {},
   "outputs": [
    {
     "data": {
      "text/plain": [
       "(11, 18)"
      ]
     },
     "execution_count": 24,
     "metadata": {},
     "output_type": "execute_result"
    }
   ],
   "source": [
    "FarmyardCrop.shape"
   ]
  },
  {
   "cell_type": "code",
   "execution_count": 25,
   "metadata": {},
   "outputs": [],
   "source": [
    "df1 = dfFix(GeneralCitizen,\"Firewood_collection:Childs\",\"Cooking:Childs_001\")\n",
    "df2 = dfFix(GeneralCitizen,\"Cooking:Childs_001\",\"TICs_Knowledge:Phone_Call\")\n",
    "df1 = df1.transpose()\n",
    "df2 = df2.transpose()\n",
    "df1 = df1.reset_index(drop = True)\n",
    "df2 = df2.reset_index(drop = True)\n",
    "SE_WorkType_has_Community = concatDF(df1,df2)\n",
    "SE_WorkType_has_Community = SE_WorkType_has_Community.transpose()\n",
    "mkCSV(SE_WorkType_has_Community,\"SE_WorkType_has_Community\")"
   ]
  },
  {
   "cell_type": "code",
   "execution_count": 26,
   "metadata": {},
   "outputs": [
    {
     "data": {
      "text/html": [
       "<div>\n",
       "<style scoped>\n",
       "    .dataframe tbody tr th:only-of-type {\n",
       "        vertical-align: middle;\n",
       "    }\n",
       "\n",
       "    .dataframe tbody tr th {\n",
       "        vertical-align: top;\n",
       "    }\n",
       "\n",
       "    .dataframe thead th {\n",
       "        text-align: right;\n",
       "    }\n",
       "</style>\n",
       "<table border=\"1\" class=\"dataframe\">\n",
       "  <thead>\n",
       "    <tr style=\"text-align: right;\">\n",
       "      <th></th>\n",
       "      <th>0</th>\n",
       "      <th>1</th>\n",
       "      <th>2</th>\n",
       "    </tr>\n",
       "  </thead>\n",
       "  <tbody>\n",
       "  </tbody>\n",
       "</table>\n",
       "</div>"
      ],
      "text/plain": [
       "Empty DataFrame\n",
       "Columns: [0, 1, 2]\n",
       "Index: []"
      ]
     },
     "execution_count": 26,
     "metadata": {},
     "output_type": "execute_result"
    }
   ],
   "source": [
    "SE_WorkType_has_Community"
   ]
  },
  {
   "cell_type": "code",
   "execution_count": 27,
   "metadata": {},
   "outputs": [
    {
     "name": "stdout",
     "output_type": "stream",
     "text": [
      "[[1 1 1 1 1 2]]\n",
      "['carrasco', 'continental', 'eucalipto', 'mediterraneo', 'pino', 'roble']\n"
     ]
    }
   ],
   "source": [
    "corpus = [\"Pino carrasco, Roble continental, roble mediterraneo, la Haya, Eucalipto\"]\n",
    "X = count_vectorizer.fit_transform(corpus)\n",
    "print(X.toarray())\n",
    "print(count_vectorizer.get_feature_names())"
   ]
  }
 ],
 "metadata": {
  "kernelspec": {
   "display_name": "Python 3",
   "language": "python",
   "name": "python3"
  },
  "language_info": {
   "codemirror_mode": {
    "name": "ipython",
    "version": 3
   },
   "file_extension": ".py",
   "mimetype": "text/x-python",
   "name": "python",
   "nbconvert_exporter": "python",
   "pygments_lexer": "ipython3",
   "version": "3.7.1"
  }
 },
 "nbformat": 4,
 "nbformat_minor": 2
}
