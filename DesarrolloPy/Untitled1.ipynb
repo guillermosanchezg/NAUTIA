{
 "cells": [
  {
   "cell_type": "code",
   "execution_count": 1,
   "metadata": {},
   "outputs": [],
   "source": [
    "import pandas as pd\n",
    "import os"
   ]
  },
  {
   "cell_type": "code",
   "execution_count": 45,
   "metadata": {},
   "outputs": [],
   "source": [
    "mainpath = \"C:/Users/guill/Documents/Universidad/PlataformaRefugiados/NAUTIA/DesarrolloPy/EmtyCSV\"\n",
    "\n",
    "def getPath(mainpath,filename):\n",
    "    return os.path.join(mainpath, filename)\n",
    "\n",
    "pd.options.display.max_columns = None"
   ]
  },
  {
   "cell_type": "code",
   "execution_count": 46,
   "metadata": {},
   "outputs": [
    {
     "ename": "FileNotFoundError",
     "evalue": "File b'C:/Users/guill/Documents/Universidad/PlataformaRefugiados/NAUTIA/DesarrolloPy/EmtyCSV\\\\Shimelba_HostCommunity_Survey.csv' does not exist",
     "output_type": "error",
     "traceback": [
      "\u001b[1;31m---------------------------------------------------------------------------\u001b[0m",
      "\u001b[1;31mFileNotFoundError\u001b[0m                         Traceback (most recent call last)",
      "\u001b[1;32m<ipython-input-46-6b8d69d27387>\u001b[0m in \u001b[0;36m<module>\u001b[1;34m\u001b[0m\n\u001b[1;32m----> 1\u001b[1;33m \u001b[0mShimelba_HostCommunity_Survey\u001b[0m \u001b[1;33m=\u001b[0m \u001b[0mpd\u001b[0m\u001b[1;33m.\u001b[0m\u001b[0mread_csv\u001b[0m\u001b[1;33m(\u001b[0m\u001b[0mgetPath\u001b[0m\u001b[1;33m(\u001b[0m\u001b[0mmainpath\u001b[0m\u001b[1;33m,\u001b[0m\u001b[1;34m\"Shimelba_HostCommunity_Survey.csv\"\u001b[0m\u001b[1;33m)\u001b[0m\u001b[1;33m)\u001b[0m\u001b[1;33m\u001b[0m\u001b[1;33m\u001b[0m\u001b[0m\n\u001b[0m\u001b[0;32m      2\u001b[0m \u001b[0mSurveyEthiopia\u001b[0m \u001b[1;33m=\u001b[0m \u001b[0mpd\u001b[0m\u001b[1;33m.\u001b[0m\u001b[0mread_csv\u001b[0m\u001b[1;33m(\u001b[0m\u001b[0mgetPath\u001b[0m\u001b[1;33m(\u001b[0m\u001b[0mmainpath\u001b[0m\u001b[1;33m,\u001b[0m\u001b[1;34m\"SurveyEthiopia.csv\"\u001b[0m\u001b[1;33m)\u001b[0m\u001b[1;33m)\u001b[0m\u001b[1;33m\u001b[0m\u001b[1;33m\u001b[0m\u001b[0m\n\u001b[0;32m      3\u001b[0m \u001b[0mVT01_Infrastructures\u001b[0m \u001b[1;33m=\u001b[0m \u001b[0mpd\u001b[0m\u001b[1;33m.\u001b[0m\u001b[0mread_csv\u001b[0m\u001b[1;33m(\u001b[0m\u001b[0mgetPath\u001b[0m\u001b[1;33m(\u001b[0m\u001b[0mmainpath\u001b[0m\u001b[1;33m,\u001b[0m\u001b[1;34m\"VT01_Infrastructures.csv\"\u001b[0m\u001b[1;33m)\u001b[0m\u001b[1;33m)\u001b[0m\u001b[1;33m\u001b[0m\u001b[1;33m\u001b[0m\u001b[0m\n\u001b[0;32m      4\u001b[0m \u001b[0mVT02_PublicSpace\u001b[0m \u001b[1;33m=\u001b[0m \u001b[0mpd\u001b[0m\u001b[1;33m.\u001b[0m\u001b[0mread_csv\u001b[0m\u001b[1;33m(\u001b[0m\u001b[0mgetPath\u001b[0m\u001b[1;33m(\u001b[0m\u001b[0mmainpath\u001b[0m\u001b[1;33m,\u001b[0m\u001b[1;34m\"VT02_PublicSpace.csv\"\u001b[0m\u001b[1;33m)\u001b[0m\u001b[1;33m)\u001b[0m\u001b[1;33m\u001b[0m\u001b[1;33m\u001b[0m\u001b[0m\n\u001b[0;32m      5\u001b[0m \u001b[0mVT02_PublicSpace_Street_lighting_001\u001b[0m \u001b[1;33m=\u001b[0m \u001b[0mpd\u001b[0m\u001b[1;33m.\u001b[0m\u001b[0mread_csv\u001b[0m\u001b[1;33m(\u001b[0m\u001b[0mgetPath\u001b[0m\u001b[1;33m(\u001b[0m\u001b[0mmainpath\u001b[0m\u001b[1;33m,\u001b[0m\u001b[1;34m\"VT02_PublicSpace_Street_lighting_001.csv\"\u001b[0m\u001b[1;33m)\u001b[0m\u001b[1;33m)\u001b[0m\u001b[1;33m\u001b[0m\u001b[1;33m\u001b[0m\u001b[0m\n",
      "\u001b[1;32m~\\Anaconda3\\lib\\site-packages\\pandas\\io\\parsers.py\u001b[0m in \u001b[0;36mparser_f\u001b[1;34m(filepath_or_buffer, sep, delimiter, header, names, index_col, usecols, squeeze, prefix, mangle_dupe_cols, dtype, engine, converters, true_values, false_values, skipinitialspace, skiprows, nrows, na_values, keep_default_na, na_filter, verbose, skip_blank_lines, parse_dates, infer_datetime_format, keep_date_col, date_parser, dayfirst, iterator, chunksize, compression, thousands, decimal, lineterminator, quotechar, quoting, escapechar, comment, encoding, dialect, tupleize_cols, error_bad_lines, warn_bad_lines, skipfooter, doublequote, delim_whitespace, low_memory, memory_map, float_precision)\u001b[0m\n\u001b[0;32m    676\u001b[0m                     skip_blank_lines=skip_blank_lines)\n\u001b[0;32m    677\u001b[0m \u001b[1;33m\u001b[0m\u001b[0m\n\u001b[1;32m--> 678\u001b[1;33m         \u001b[1;32mreturn\u001b[0m \u001b[0m_read\u001b[0m\u001b[1;33m(\u001b[0m\u001b[0mfilepath_or_buffer\u001b[0m\u001b[1;33m,\u001b[0m \u001b[0mkwds\u001b[0m\u001b[1;33m)\u001b[0m\u001b[1;33m\u001b[0m\u001b[1;33m\u001b[0m\u001b[0m\n\u001b[0m\u001b[0;32m    679\u001b[0m \u001b[1;33m\u001b[0m\u001b[0m\n\u001b[0;32m    680\u001b[0m     \u001b[0mparser_f\u001b[0m\u001b[1;33m.\u001b[0m\u001b[0m__name__\u001b[0m \u001b[1;33m=\u001b[0m \u001b[0mname\u001b[0m\u001b[1;33m\u001b[0m\u001b[1;33m\u001b[0m\u001b[0m\n",
      "\u001b[1;32m~\\Anaconda3\\lib\\site-packages\\pandas\\io\\parsers.py\u001b[0m in \u001b[0;36m_read\u001b[1;34m(filepath_or_buffer, kwds)\u001b[0m\n\u001b[0;32m    438\u001b[0m \u001b[1;33m\u001b[0m\u001b[0m\n\u001b[0;32m    439\u001b[0m     \u001b[1;31m# Create the parser.\u001b[0m\u001b[1;33m\u001b[0m\u001b[1;33m\u001b[0m\u001b[1;33m\u001b[0m\u001b[0m\n\u001b[1;32m--> 440\u001b[1;33m     \u001b[0mparser\u001b[0m \u001b[1;33m=\u001b[0m \u001b[0mTextFileReader\u001b[0m\u001b[1;33m(\u001b[0m\u001b[0mfilepath_or_buffer\u001b[0m\u001b[1;33m,\u001b[0m \u001b[1;33m**\u001b[0m\u001b[0mkwds\u001b[0m\u001b[1;33m)\u001b[0m\u001b[1;33m\u001b[0m\u001b[1;33m\u001b[0m\u001b[0m\n\u001b[0m\u001b[0;32m    441\u001b[0m \u001b[1;33m\u001b[0m\u001b[0m\n\u001b[0;32m    442\u001b[0m     \u001b[1;32mif\u001b[0m \u001b[0mchunksize\u001b[0m \u001b[1;32mor\u001b[0m \u001b[0miterator\u001b[0m\u001b[1;33m:\u001b[0m\u001b[1;33m\u001b[0m\u001b[1;33m\u001b[0m\u001b[0m\n",
      "\u001b[1;32m~\\Anaconda3\\lib\\site-packages\\pandas\\io\\parsers.py\u001b[0m in \u001b[0;36m__init__\u001b[1;34m(self, f, engine, **kwds)\u001b[0m\n\u001b[0;32m    785\u001b[0m             \u001b[0mself\u001b[0m\u001b[1;33m.\u001b[0m\u001b[0moptions\u001b[0m\u001b[1;33m[\u001b[0m\u001b[1;34m'has_index_names'\u001b[0m\u001b[1;33m]\u001b[0m \u001b[1;33m=\u001b[0m \u001b[0mkwds\u001b[0m\u001b[1;33m[\u001b[0m\u001b[1;34m'has_index_names'\u001b[0m\u001b[1;33m]\u001b[0m\u001b[1;33m\u001b[0m\u001b[1;33m\u001b[0m\u001b[0m\n\u001b[0;32m    786\u001b[0m \u001b[1;33m\u001b[0m\u001b[0m\n\u001b[1;32m--> 787\u001b[1;33m         \u001b[0mself\u001b[0m\u001b[1;33m.\u001b[0m\u001b[0m_make_engine\u001b[0m\u001b[1;33m(\u001b[0m\u001b[0mself\u001b[0m\u001b[1;33m.\u001b[0m\u001b[0mengine\u001b[0m\u001b[1;33m)\u001b[0m\u001b[1;33m\u001b[0m\u001b[1;33m\u001b[0m\u001b[0m\n\u001b[0m\u001b[0;32m    788\u001b[0m \u001b[1;33m\u001b[0m\u001b[0m\n\u001b[0;32m    789\u001b[0m     \u001b[1;32mdef\u001b[0m \u001b[0mclose\u001b[0m\u001b[1;33m(\u001b[0m\u001b[0mself\u001b[0m\u001b[1;33m)\u001b[0m\u001b[1;33m:\u001b[0m\u001b[1;33m\u001b[0m\u001b[1;33m\u001b[0m\u001b[0m\n",
      "\u001b[1;32m~\\Anaconda3\\lib\\site-packages\\pandas\\io\\parsers.py\u001b[0m in \u001b[0;36m_make_engine\u001b[1;34m(self, engine)\u001b[0m\n\u001b[0;32m   1012\u001b[0m     \u001b[1;32mdef\u001b[0m \u001b[0m_make_engine\u001b[0m\u001b[1;33m(\u001b[0m\u001b[0mself\u001b[0m\u001b[1;33m,\u001b[0m \u001b[0mengine\u001b[0m\u001b[1;33m=\u001b[0m\u001b[1;34m'c'\u001b[0m\u001b[1;33m)\u001b[0m\u001b[1;33m:\u001b[0m\u001b[1;33m\u001b[0m\u001b[1;33m\u001b[0m\u001b[0m\n\u001b[0;32m   1013\u001b[0m         \u001b[1;32mif\u001b[0m \u001b[0mengine\u001b[0m \u001b[1;33m==\u001b[0m \u001b[1;34m'c'\u001b[0m\u001b[1;33m:\u001b[0m\u001b[1;33m\u001b[0m\u001b[1;33m\u001b[0m\u001b[0m\n\u001b[1;32m-> 1014\u001b[1;33m             \u001b[0mself\u001b[0m\u001b[1;33m.\u001b[0m\u001b[0m_engine\u001b[0m \u001b[1;33m=\u001b[0m \u001b[0mCParserWrapper\u001b[0m\u001b[1;33m(\u001b[0m\u001b[0mself\u001b[0m\u001b[1;33m.\u001b[0m\u001b[0mf\u001b[0m\u001b[1;33m,\u001b[0m \u001b[1;33m**\u001b[0m\u001b[0mself\u001b[0m\u001b[1;33m.\u001b[0m\u001b[0moptions\u001b[0m\u001b[1;33m)\u001b[0m\u001b[1;33m\u001b[0m\u001b[1;33m\u001b[0m\u001b[0m\n\u001b[0m\u001b[0;32m   1015\u001b[0m         \u001b[1;32melse\u001b[0m\u001b[1;33m:\u001b[0m\u001b[1;33m\u001b[0m\u001b[1;33m\u001b[0m\u001b[0m\n\u001b[0;32m   1016\u001b[0m             \u001b[1;32mif\u001b[0m \u001b[0mengine\u001b[0m \u001b[1;33m==\u001b[0m \u001b[1;34m'python'\u001b[0m\u001b[1;33m:\u001b[0m\u001b[1;33m\u001b[0m\u001b[1;33m\u001b[0m\u001b[0m\n",
      "\u001b[1;32m~\\Anaconda3\\lib\\site-packages\\pandas\\io\\parsers.py\u001b[0m in \u001b[0;36m__init__\u001b[1;34m(self, src, **kwds)\u001b[0m\n\u001b[0;32m   1706\u001b[0m         \u001b[0mkwds\u001b[0m\u001b[1;33m[\u001b[0m\u001b[1;34m'usecols'\u001b[0m\u001b[1;33m]\u001b[0m \u001b[1;33m=\u001b[0m \u001b[0mself\u001b[0m\u001b[1;33m.\u001b[0m\u001b[0musecols\u001b[0m\u001b[1;33m\u001b[0m\u001b[1;33m\u001b[0m\u001b[0m\n\u001b[0;32m   1707\u001b[0m \u001b[1;33m\u001b[0m\u001b[0m\n\u001b[1;32m-> 1708\u001b[1;33m         \u001b[0mself\u001b[0m\u001b[1;33m.\u001b[0m\u001b[0m_reader\u001b[0m \u001b[1;33m=\u001b[0m \u001b[0mparsers\u001b[0m\u001b[1;33m.\u001b[0m\u001b[0mTextReader\u001b[0m\u001b[1;33m(\u001b[0m\u001b[0msrc\u001b[0m\u001b[1;33m,\u001b[0m \u001b[1;33m**\u001b[0m\u001b[0mkwds\u001b[0m\u001b[1;33m)\u001b[0m\u001b[1;33m\u001b[0m\u001b[1;33m\u001b[0m\u001b[0m\n\u001b[0m\u001b[0;32m   1709\u001b[0m \u001b[1;33m\u001b[0m\u001b[0m\n\u001b[0;32m   1710\u001b[0m         \u001b[0mpassed_names\u001b[0m \u001b[1;33m=\u001b[0m \u001b[0mself\u001b[0m\u001b[1;33m.\u001b[0m\u001b[0mnames\u001b[0m \u001b[1;32mis\u001b[0m \u001b[1;32mNone\u001b[0m\u001b[1;33m\u001b[0m\u001b[1;33m\u001b[0m\u001b[0m\n",
      "\u001b[1;32mpandas\\_libs\\parsers.pyx\u001b[0m in \u001b[0;36mpandas._libs.parsers.TextReader.__cinit__\u001b[1;34m()\u001b[0m\n",
      "\u001b[1;32mpandas\\_libs\\parsers.pyx\u001b[0m in \u001b[0;36mpandas._libs.parsers.TextReader._setup_parser_source\u001b[1;34m()\u001b[0m\n",
      "\u001b[1;31mFileNotFoundError\u001b[0m: File b'C:/Users/guill/Documents/Universidad/PlataformaRefugiados/NAUTIA/DesarrolloPy/EmtyCSV\\\\Shimelba_HostCommunity_Survey.csv' does not exist"
     ]
    }
   ],
   "source": [
    "Shimelba_HostCommunity_Survey = pd.read_csv(getPath(mainpath,\"Shimelba_HostCommunity_Survey.csv\"))\n",
    "SurveyEthiopia = pd.read_csv(getPath(mainpath,\"SurveyEthiopia.csv\"))\n",
    "VT01_Infrastructures = pd.read_csv(getPath(mainpath,\"VT01_Infrastructures.csv\"))\n",
    "VT02_PublicSpace = pd.read_csv(getPath(mainpath,\"VT02_PublicSpace.csv\"))\n",
    "VT02_PublicSpace_Street_lighting_001 = pd.read_csv(getPath(mainpath,\"VT02_PublicSpace_Street_lighting_001.csv\"))\n",
    "VT03_UrbanServices_Associate_infrastructure_Elect_Comsumption_Equipament = pd.read_csv(getPath(mainpath,\"VT03_UrbanServices_Associate_infrastructure_Elect_Comsumption_Equipament.csv\"))\n",
    "VT03_UrbanServices = pd.read_csv(getPath(mainpath,\"VT03_UrbanServices.csv\"))\n",
    "VT04_Shelter_Associate_Infrastructure_Elect_Equipos_consumo = pd.read_csv(getPath(mainpath,\"VT04_Shelter_Associate_Infrastructure_Elect_Equipos_consumo.csv\"))\n",
    "VT04_Shelter = pd.read_csv(getPath(mainpath,\"VT04_Shelter.csv\"))\n",
    "VT05_ProductiveAreas = pd.read_csv(getPath(mainpath,\"VT05_ProductiveAreas.csv\"))\n",
    "VT05_ProductiveAreas_Electricity_details_Comsumption_Equipament = pd.read_csv(getPath(mainpath,\"VT05_ProductiveAreas_Electricity_details_Comsumption_Equipament.csv\"))\n",
    "VT05_ProductiveAreas_Street_lighting_details = pd.read_csv(getPath(mainpath,\"VT05_ProductiveAreas_Street_lighting_details.csv\"))\n"
   ]
  },
  {
   "cell_type": "code",
   "execution_count": 48,
   "metadata": {},
   "outputs": [],
   "source": [
    "NAUTIA_1_0_Entities_Interview_results = pd.read_csv(getPath(mainpath,\"NAUTIA_1_0_Entities_Interview_results.csv\"))\n",
    "NAUTIA_1_0_Local_leaders_v3_results = pd.read_csv(getPath(mainpath,\"NAUTIA_1_0_Local_leaders_v3_results.csv\"))\n",
    "NAUTIA_1_0_Survey_household_v6_results = pd.read_csv(getPath(mainpath,\"NAUTIA_1_0_Survey_household_v6_results.csv\"))\n",
    "NAUTIA_1_0_Women_Focus_Group2_results = pd.read_csv(getPath(mainpath,\"NAUTIA_1_0_Women_Focus_Group2_results.csv\"))\n",
    "NAUTIA_V1_0_Sanitation_Infrastructre_results = pd.read_csv(getPath(mainpath,\"NAUTIA_V1_0_Sanitation_Infrastructre_results.csv\"))\n",
    "NAUTIA_1_0_Priorities_v3_results = pd.read_csv(getPath(mainpath,\"NAUTIA_1_0_Priorities_v3_results.csv\"))\n",
    "NAUTIA_1_0_General_form_v3_results = pd.read_csv(getPath(mainpath,\"NAUTIA_1_0_General_form_v3_results.csv\"))\n",
    "NAUTIA_1_0_Public_Space_results = pd.read_csv(getPath(mainpath,\"NAUTIA_1_0_Public_Space_results.csv\"))\n",
    "NAUTIA_1_0_Water_Infrastructure_results = pd.read_csv(getPath(mainpath,\"NAUTIA_1_0_Water_Infrastructure_results.csv\"))\n",
    "NAUTIA_1_0_Waste_Management_Infrastructure_results = pd.read_csv(getPath(mainpath,\"NAUTIA_1_0_Waste_Management_Infrastructure_results.csv\"))\n",
    "NAUTIA_1_0_Energy_Infrastructure_results = pd.read_csv(getPath(mainpath,\"NAUTIA_1_0_Energy_Infrastructure_results.csv\"))\n",
    "NAUTIA1_0_Business_surveys_v3_results = pd.read_csv(getPath(mainpath,\"NAUTIA1_0_Business_surveys_v3_results.csv\"))\n",
    "NAUTIA_1_0__Transport_servicesaccess_points_results = pd.read_csv(getPath(mainpath,\"NAUTIA_1_0__Transport_servicesaccess_points_results.csv\")) \n",
    "NAUTIA_1_0_Communal_Services_results = pd.read_csv(getPath(mainpath,\"NAUTIA_1_0_Communal_Services_results.csv\")) \n",
    "NAUTIA_1_0__Transport_servicesaccess_points_results = pd.read_csv(getPath(mainpath,\"NAUTIA_1_0__Transport_servicesaccess_points_results.csv\")) \n",
    "NAUTIA_1_0_Farmyard_and_Crops_results = pd.read_csv(getPath(mainpath,\"NAUTIA_1_0_Farmyard_and_Crops_results.csv\")) \n",
    "NAUTIA_1_0_General_Citizen_Focus_Group_results = pd.read_csv(getPath(mainpath,\"NAUTIA_1_0_General_Citizen_Focus_Group_results.csv\")) "
   ]
  },
  {
   "cell_type": "code",
   "execution_count": 49,
   "metadata": {},
   "outputs": [],
   "source": [
    "fileName = \"NAUTIA_1_0_Entities_Interview_results.xlsx\"\n",
    "NAUTIA_1_0_Entities_Interview_results.to_excel('EmptyExcel/'+fileName)\n",
    "\n",
    "fileName = \"NAUTIA_1_0_Local_leaders_v3_results.xlsx\"\n",
    "NAUTIA_1_0_Local_leaders_v3_results.to_excel('EmptyExcel/'+fileName)\n",
    "\n",
    "fileName = \"NAUTIA_1_0_Survey_household_v6_results.xlsx\"\n",
    "NAUTIA_1_0_Survey_household_v6_results.to_excel('EmptyExcel/'+fileName)\n",
    "\n",
    "fileName = \"NAUTIA_1_0_Women_Focus_Group2_results.xlsx\"\n",
    "NAUTIA_1_0_Women_Focus_Group2_results.to_excel('EmptyExcel/'+fileName)\n",
    "\n",
    "fileName = \"NAUTIA_V1_0_Sanitation_Infrastructre_results.xlsx\"\n",
    "NAUTIA_V1_0_Sanitation_Infrastructre_results.to_excel('EmptyExcel/'+fileName)\n",
    "\n",
    "fileName = \"NAUTIA_1_0_Priorities_v3_results.xlsx\"\n",
    "NAUTIA_1_0_Priorities_v3_results.to_excel('EmptyExcel/'+fileName)\n",
    "\n",
    "fileName = \"NAUTIA_1_0_General_form_v3_results.xlsx\"\n",
    "NAUTIA_1_0_General_form_v3_results.to_excel('EmptyExcel/'+fileName)\n",
    "\n",
    "fileName = \"NAUTIA_1_0_Public_Space_results.xlsx\"\n",
    "NAUTIA_1_0_Public_Space_results.to_excel('EmptyExcel/'+fileName)\n",
    "\n",
    "fileName = \"NAUTIA_1_0_Water_Infrastructure_results.xlsx\"\n",
    "NAUTIA_1_0_Water_Infrastructure_results.to_excel('EmptyExcel/'+fileName)\n",
    "\n",
    "fileName = \"NAUTIA_1_0_Waste_Management_Infrastructure_results.xlsx\"\n",
    "NAUTIA_1_0_Waste_Management_Infrastructure_results.to_excel('EmptyExcel/'+fileName)\n",
    "\n",
    "fileName = \"NAUTIA_1_0_Energy_Infrastructure_results.xlsx\"\n",
    "NAUTIA_1_0_Energy_Infrastructure_results.to_excel('EmptyExcel/'+fileName)\n",
    "\n",
    "fileName = \"NAUTIA1_0_Business_surveys_v3_results.xlsx\"\n",
    "NAUTIA1_0_Business_surveys_v3_results.to_excel('EmptyExcel/'+fileName)\n",
    "\n",
    "fileName = \"NAUTIA_1_0__Transport_servicesaccess_points_results.xlsx\"\n",
    "NAUTIA_1_0__Transport_servicesaccess_points_results.to_excel('EmptyExcel/'+fileName)\n",
    "\n",
    "fileName = \"NAUTIA_1_0_Communal_Services_results.xlsx\"\n",
    "NAUTIA_1_0_Communal_Services_results.to_excel('EmptyExcel/'+fileName)\n",
    "\n",
    "fileName = \"NAUTIA_1_0__Transport_servicesaccess_points_results.xlsx\"\n",
    "NAUTIA_1_0__Transport_servicesaccess_points_results.to_excel('EmptyExcel/'+fileName)\n",
    "\n",
    "fileName = \"NAUTIA_1_0_Farmyard_and_Crops_results.xlsx\"\n",
    "NAUTIA_1_0_Farmyard_and_Crops_results.to_excel('EmptyExcel/'+fileName)\n",
    "\n",
    "fileName = \"NAUTIA_1_0_General_Citizen_Focus_Group_results.xlsx\"\n",
    "NAUTIA_1_0_General_Citizen_Focus_Group_results.to_excel('EmptyExcel/'+fileName)\n"
   ]
  },
  {
   "cell_type": "code",
   "execution_count": null,
   "metadata": {},
   "outputs": [],
   "source": []
  },
  {
   "cell_type": "code",
   "execution_count": 20,
   "metadata": {
    "scrolled": true
   },
   "outputs": [
    {
     "data": {
      "text/plain": [
       "(307, 56)"
      ]
     },
     "execution_count": 20,
     "metadata": {},
     "output_type": "execute_result"
    }
   ],
   "source": [
    "Shimelba_HostCommunity_Survey.shape"
   ]
  },
  {
   "cell_type": "code",
   "execution_count": 21,
   "metadata": {},
   "outputs": [],
   "source": [
    "fileName = \"Shimelba_HostCommunity_Survey.xlsx\"\n",
    "Shimelba_HostCommunity_Survey.to_excel('ExcelShimelba/'+fileName)"
   ]
  },
  {
   "cell_type": "code",
   "execution_count": 22,
   "metadata": {
    "scrolled": true
   },
   "outputs": [
    {
     "data": {
      "text/plain": [
       "(19, 53)"
      ]
     },
     "execution_count": 22,
     "metadata": {},
     "output_type": "execute_result"
    }
   ],
   "source": [
    "SurveyEthiopia.shape"
   ]
  },
  {
   "cell_type": "code",
   "execution_count": 23,
   "metadata": {},
   "outputs": [],
   "source": [
    "fileName = \"SurveyEthiopia.xlsx\"\n",
    "SurveyEthiopia.to_excel('ExcelShimelba/'+fileName)"
   ]
  },
  {
   "cell_type": "code",
   "execution_count": 24,
   "metadata": {},
   "outputs": [
    {
     "data": {
      "text/plain": [
       "(43, 83)"
      ]
     },
     "execution_count": 24,
     "metadata": {},
     "output_type": "execute_result"
    }
   ],
   "source": [
    "VT01_Infrastructures.shape"
   ]
  },
  {
   "cell_type": "code",
   "execution_count": 25,
   "metadata": {},
   "outputs": [],
   "source": [
    "fileName = \"VT01_Infrastructures.xlsx\"\n",
    "VT01_Infrastructures.to_excel('ExcelShimelba/'+fileName)"
   ]
  },
  {
   "cell_type": "code",
   "execution_count": 26,
   "metadata": {},
   "outputs": [
    {
     "data": {
      "text/plain": [
       "(11, 58)"
      ]
     },
     "execution_count": 26,
     "metadata": {},
     "output_type": "execute_result"
    }
   ],
   "source": [
    "VT02_PublicSpace.shape"
   ]
  },
  {
   "cell_type": "code",
   "execution_count": 27,
   "metadata": {},
   "outputs": [],
   "source": [
    "fileName = \"VT02_PublicSpace.xlsx\"\n",
    "VT02_PublicSpace.to_excel('ExcelShimelba/'+fileName)"
   ]
  },
  {
   "cell_type": "code",
   "execution_count": 28,
   "metadata": {},
   "outputs": [
    {
     "data": {
      "text/plain": [
       "(1, 16)"
      ]
     },
     "execution_count": 28,
     "metadata": {},
     "output_type": "execute_result"
    }
   ],
   "source": [
    "VT02_PublicSpace_Street_lighting_001.shape"
   ]
  },
  {
   "cell_type": "code",
   "execution_count": 43,
   "metadata": {},
   "outputs": [],
   "source": [
    "fileName = \"VT02_PublicSpace_Street_lighting_001.xlsx\"\n",
    "VT02_PublicSpace_Street_lighting_001.to_excel('ExcelShimelba/'+fileName)"
   ]
  },
  {
   "cell_type": "code",
   "execution_count": 29,
   "metadata": {},
   "outputs": [
    {
     "data": {
      "text/plain": [
       "(9, 7)"
      ]
     },
     "execution_count": 29,
     "metadata": {},
     "output_type": "execute_result"
    }
   ],
   "source": [
    "VT03_UrbanServices_Associate_infrastructure_Elect_Comsumption_Equipament.shape"
   ]
  },
  {
   "cell_type": "code",
   "execution_count": 30,
   "metadata": {},
   "outputs": [],
   "source": [
    "fileName = \"VT03_UrbanServices_Associate_infrastructure_Elect_Comsumption_Equipament.xlsx\"\n",
    "VT03_UrbanServices_Associate_infrastructure_Elect_Comsumption_Equipament.to_excel('ExcelShimelba/'+fileName)"
   ]
  },
  {
   "cell_type": "code",
   "execution_count": 31,
   "metadata": {},
   "outputs": [
    {
     "data": {
      "text/plain": [
       "(36, 109)"
      ]
     },
     "execution_count": 31,
     "metadata": {},
     "output_type": "execute_result"
    }
   ],
   "source": [
    "VT03_UrbanServices.shape"
   ]
  },
  {
   "cell_type": "code",
   "execution_count": 32,
   "metadata": {},
   "outputs": [],
   "source": [
    "fileName = \"VT03_UrbanServices.xlsx\"\n",
    "VT03_UrbanServices.to_excel('ExcelShimelba/'+fileName)"
   ]
  },
  {
   "cell_type": "code",
   "execution_count": 33,
   "metadata": {},
   "outputs": [
    {
     "data": {
      "text/plain": [
       "(10, 7)"
      ]
     },
     "execution_count": 33,
     "metadata": {},
     "output_type": "execute_result"
    }
   ],
   "source": [
    "VT04_Shelter_Associate_Infrastructure_Elect_Equipos_consumo.shape"
   ]
  },
  {
   "cell_type": "code",
   "execution_count": 34,
   "metadata": {},
   "outputs": [],
   "source": [
    "fileName = \"VT04_Shelter_Associate_Infrastructure_Elect_Equipos_consumo.xlsx\"\n",
    "VT04_Shelter_Associate_Infrastructure_Elect_Equipos_consumo.to_excel('ExcelShimelba/'+fileName)"
   ]
  },
  {
   "cell_type": "code",
   "execution_count": 35,
   "metadata": {},
   "outputs": [
    {
     "data": {
      "text/plain": [
       "(21, 126)"
      ]
     },
     "execution_count": 35,
     "metadata": {},
     "output_type": "execute_result"
    }
   ],
   "source": [
    "VT04_Shelter.shape"
   ]
  },
  {
   "cell_type": "code",
   "execution_count": 36,
   "metadata": {},
   "outputs": [],
   "source": [
    "fileName = \"VT04_Shelter.xlsx\"\n",
    "VT04_Shelter.to_excel('ExcelShimelba/'+fileName)"
   ]
  },
  {
   "cell_type": "code",
   "execution_count": 37,
   "metadata": {},
   "outputs": [
    {
     "data": {
      "text/plain": [
       "(23, 75)"
      ]
     },
     "execution_count": 37,
     "metadata": {},
     "output_type": "execute_result"
    }
   ],
   "source": [
    "VT05_ProductiveAreas.shape"
   ]
  },
  {
   "cell_type": "code",
   "execution_count": 38,
   "metadata": {},
   "outputs": [],
   "source": [
    "fileName = \"VT05_ProductiveAreas.xlsx\"\n",
    "VT05_ProductiveAreas.to_excel('ExcelShimelba/'+fileName)"
   ]
  },
  {
   "cell_type": "code",
   "execution_count": 39,
   "metadata": {},
   "outputs": [
    {
     "data": {
      "text/plain": [
       "(12, 7)"
      ]
     },
     "execution_count": 39,
     "metadata": {},
     "output_type": "execute_result"
    }
   ],
   "source": [
    "VT05_ProductiveAreas_Electricity_details_Comsumption_Equipament.shape"
   ]
  },
  {
   "cell_type": "code",
   "execution_count": 40,
   "metadata": {},
   "outputs": [],
   "source": [
    "fileName = \"VT05_ProductiveAreas_Electricity_details_Comsumption_Equipament.xlsx\"\n",
    "VT05_ProductiveAreas_Electricity_details_Comsumption_Equipament.to_excel('ExcelShimelba/'+fileName)"
   ]
  },
  {
   "cell_type": "code",
   "execution_count": 41,
   "metadata": {},
   "outputs": [
    {
     "data": {
      "text/plain": [
       "(0, 16)"
      ]
     },
     "execution_count": 41,
     "metadata": {},
     "output_type": "execute_result"
    }
   ],
   "source": [
    "VT05_ProductiveAreas_Street_lighting_details.shape"
   ]
  },
  {
   "cell_type": "code",
   "execution_count": 42,
   "metadata": {},
   "outputs": [],
   "source": [
    "fileName = \"VT05_ProductiveAreas_Street_lighting_details.xlsx\"\n",
    "VT05_ProductiveAreas_Street_lighting_details.to_excel('ExcelShimelba/'+fileName)"
   ]
  }
 ],
 "metadata": {
  "kernelspec": {
   "display_name": "Python 3",
   "language": "python",
   "name": "python3"
  },
  "language_info": {
   "codemirror_mode": {
    "name": "ipython",
    "version": 3
   },
   "file_extension": ".py",
   "mimetype": "text/x-python",
   "name": "python",
   "nbconvert_exporter": "python",
   "pygments_lexer": "ipython3",
   "version": "3.7.1"
  }
 },
 "nbformat": 4,
 "nbformat_minor": 2
}
